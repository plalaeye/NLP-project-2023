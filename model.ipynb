{
 "cells": [
  {
   "cell_type": "code",
   "execution_count": 1,
   "metadata": {},
   "outputs": [],
   "source": [
    "import pandas as pd\n",
    "import numpy as np\n",
    "import torch"
   ]
  },
  {
   "cell_type": "code",
   "execution_count": 2,
   "metadata": {},
   "outputs": [],
   "source": [
    "data_path = 'data/'\n",
    "device = torch.device(\"cuda:0\" if torch.cuda.is_available() else \"cpu\")"
   ]
  },
  {
   "attachments": {},
   "cell_type": "markdown",
   "metadata": {},
   "source": [
    "# Prepare data"
   ]
  },
  {
   "cell_type": "code",
   "execution_count": 3,
   "metadata": {},
   "outputs": [],
   "source": [
    "train = pd.read_csv(data_path + 'train.csv')\n",
    "val = pd.read_csv(data_path + 'val.csv')\n",
    "test = pd.read_csv(data_path + 'test.csv')\n",
    "\n",
    "train = train[train['label'] == 0]\n",
    "val = val[val['label'] == 0]\n",
    "test = test[test['label'] == 0]"
   ]
  },
  {
   "attachments": {},
   "cell_type": "markdown",
   "metadata": {},
   "source": [
    "# DataLoader"
   ]
  },
  {
   "cell_type": "code",
   "execution_count": 4,
   "metadata": {},
   "outputs": [],
   "source": [
    "from torch.utils.data import Dataset, DataLoader\n",
    "\n",
    "class ImpoliteDataset(Dataset):\n",
    "    def __init__(self, X):\n",
    "        self.X = X\n",
    "\n",
    "    def __len__(self):\n",
    "        return len(self.X)\n",
    "\n",
    "    def __getitem__(self, idx):\n",
    "        return self.X[idx]"
   ]
  },
  {
   "cell_type": "code",
   "execution_count": 5,
   "metadata": {},
   "outputs": [],
   "source": [
    "train_dataset = ImpoliteDataset(train['text'].tolist())\n",
    "train_dataloader = DataLoader(train_dataset, batch_size=32, shuffle=True)\n",
    "val_dataset = ImpoliteDataset(val['text'].tolist())\n",
    "val_dataloader = DataLoader(val_dataset, batch_size=32, shuffle=True)\n",
    "test_dataset = ImpoliteDataset(test['text'].tolist())\n",
    "test_dataloader = DataLoader(test_dataset, batch_size=32, shuffle=True)"
   ]
  },
  {
   "attachments": {},
   "cell_type": "markdown",
   "metadata": {},
   "source": [
    "# Model"
   ]
  },
  {
   "cell_type": "code",
   "execution_count": 6,
   "metadata": {},
   "outputs": [],
   "source": [
    "from transformers import (\n",
    "    AutoTokenizer,\n",
    "    AutoModelForCausalLM,\n",
    "    AutoModelForSequenceClassification\n",
    ")\n",
    "\n",
    "text_generation_tokenizer = AutoTokenizer.from_pretrained(\"facebook/xglm-564M\")\n",
    "text_generation_model = AutoModelForCausalLM.from_pretrained(\"facebook/xglm-564M\")"
   ]
  },
  {
   "cell_type": "code",
   "execution_count": 7,
   "metadata": {},
   "outputs": [],
   "source": [
    "classification_name = \"airesearch/wangchanberta-base-att-spm-uncased\"\n",
    "classification_tokenizer = AutoTokenizer.from_pretrained(classification_name)\n",
    "classification_model = AutoModelForSequenceClassification.from_pretrained('./checkpoints/classifier/new_5')"
   ]
  },
  {
   "cell_type": "code",
   "execution_count": 8,
   "metadata": {},
   "outputs": [],
   "source": [
    "for param in text_generation_model.parameters():\n",
    "    param.requires_grad = False\n",
    "    \n",
    "for param in classification_model.parameters():\n",
    "    param.requires_grad = False"
   ]
  },
  {
   "cell_type": "code",
   "execution_count": 94,
   "metadata": {},
   "outputs": [],
   "source": [
    "from torch import nn\n",
    "\n",
    "class PrefixModel(nn.Module):\n",
    "    def __init__(self, prefix_seed_length, prefix_len, mid_dim=512):\n",
    "        super().__init__()\n",
    "        self.layer = nn.Sequential(\n",
    "            nn.Linear(prefix_seed_length, mid_dim),\n",
    "            nn.ReLU(),\n",
    "            nn.Linear(mid_dim, mid_dim),\n",
    "            nn.ReLU(),\n",
    "            nn.Linear(mid_dim, prefix_len),\n",
    "            nn.ReLU()\n",
    "        )\n",
    "\n",
    "    def forward(self, x):\n",
    "        x = x.float()\n",
    "        x = self.layer(x)\n",
    "        x = x.long()\n",
    "        return x"
   ]
  },
  {
   "cell_type": "code",
   "execution_count": 95,
   "metadata": {},
   "outputs": [],
   "source": [
    "class StyleTransferModel(nn.Module):\n",
    "    def __init__(self, prefix_seed_length, prefix_len, prefix_seed, text_generation_func, mid_dim=512):\n",
    "        super().__init__()\n",
    "        self.prefix_model = PrefixModel(prefix_seed_length, prefix_len, mid_dim)\n",
    "        self.prefix_seed = prefix_seed\n",
    "        self.text_generation_func = text_generation_func\n",
    "\n",
    "    def forward(self, x):\n",
    "        prefix = self.prefix_model(self.prefix_seed)\n",
    "        input_ids = torch.cat([prefix, x], dim=1)\n",
    "        generated = self.text_generation_func(input_ids)\n",
    "        return generated"
   ]
  },
  {
   "cell_type": "code",
   "execution_count": 96,
   "metadata": {},
   "outputs": [],
   "source": [
    "from transformers import (\n",
    "    LogitsProcessorList,\n",
    "    MinLengthLogitsProcessor,\n",
    ")\n",
    "\n",
    "class GenerationModel():\n",
    "    def __init__(self, model, tokenizer, max_token_length=256):\n",
    "        self.model = model\n",
    "        self.tokenizer = tokenizer\n",
    "        self.max_token_length = max_token_length\n",
    "        \n",
    "    def generate_text(self, inputs):\n",
    "        print(inputs)\n",
    "        output = self.model.generate(\n",
    "                                        input_ids=inputs, \n",
    "                                        # top_k=50, \n",
    "                                        temperature=0.7, \n",
    "                                        max_length=256, \n",
    "                                        early_stopping=True, \n",
    "                                        no_repeat_ngram_size=2,\n",
    "                                        logits_processor=LogitsProcessorList([\n",
    "                                            MinLengthLogitsProcessor(15, eos_token_id=self.model.generation_config.eos_token_id),\n",
    "                                            ])\n",
    "                                    )\n",
    "        generated_text = self.tokenizer.batch_decode(output, skip_special_tokens=True)\n",
    "        return generated_text"
   ]
  },
  {
   "cell_type": "code",
   "execution_count": 97,
   "metadata": {},
   "outputs": [],
   "source": [
    "from evaluate import load\n",
    "\n",
    "classification_loss = nn.CrossEntropyLoss()\n",
    "\n",
    "def classification_loss(classifier, tokenizer, generated_text, max_length=256):\n",
    "    tokenized_text = tokenizer(generated_text, return_tensors='pt', padding=True, truncation=True, max_length=max_length)\n",
    "    out = classifier(**tokenized_text)\n",
    "    target = torch.ones_like(out.logits.argmax(dim=1))\n",
    "    return classification_loss(out, target)\n",
    "\n",
    "def content_loss(bert_score, pred, ref, model_type=\"bert-base-multilingual-cased\"):\n",
    "    results = bert_score.compute(predictions=pred, references=ref, lang=\"th\", model_type=model_type)\n",
    "    loss = -1 * results['f1'].requires_grad_(True).mean().to(device)\n",
    "    return loss"
   ]
  },
  {
   "cell_type": "code",
   "execution_count": 98,
   "metadata": {},
   "outputs": [],
   "source": [
    "from torchsummaryX import summary\n",
    "\n",
    "prefix_seed = \"สวัสดี0\"\n",
    "sample_text = [\"สวัสดี1\"]\n",
    "\n",
    "tokenized_prefix = text_generation_tokenizer(prefix_seed, return_tensors='pt', padding=True, truncation=True, max_length=256).input_ids\n",
    "tokenized = text_generation_tokenizer(sample_text, return_tensors='pt', padding=True, truncation=True, max_length=256).input_ids\n",
    "\n",
    "generation_model = GenerationModel(text_generation_model, text_generation_tokenizer)\n",
    "style_transfer_model = StyleTransferModel(len(tokenized_prefix[0]), 10, tokenized_prefix, generation_model.generate_text)"
   ]
  },
  {
   "cell_type": "code",
   "execution_count": 99,
   "metadata": {},
   "outputs": [
    {
     "name": "stdout",
     "output_type": "stream",
     "text": [
      "tensor([[  4112,      0,   4306,     97,   1611,      0,      0,   9950,    875,\n",
      "           7363,      2, 167498,    285]])\n",
      "============================================================================\n",
      "                              Kernel Shape Output Shape    Params Mult-Adds\n",
      "Layer                                                                      \n",
      "0_prefix_model.layer.Linear_0     [3, 512]     [1, 512]    2.048k    1.536k\n",
      "1_prefix_model.layer.ReLU_1              -     [1, 512]         -         -\n",
      "2_prefix_model.layer.Linear_2   [512, 512]     [1, 512]  262.656k  262.144k\n",
      "3_prefix_model.layer.ReLU_3              -     [1, 512]         -         -\n",
      "4_prefix_model.layer.Linear_4    [512, 10]      [1, 10]     5.13k     5.12k\n",
      "5_prefix_model.layer.ReLU_5              -      [1, 10]         -         -\n",
      "----------------------------------------------------------------------------\n",
      "                        Totals\n",
      "Total params          269.834k\n",
      "Trainable params      269.834k\n",
      "Non-trainable params       0.0\n",
      "Mult-Adds               268.8k\n",
      "============================================================================\n"
     ]
    },
    {
     "name": "stderr",
     "output_type": "stream",
     "text": [
      "c:\\Users\\pray_\\miniconda3\\envs\\nlp2\\lib\\site-packages\\torchsummaryX\\torchsummaryX.py:101: FutureWarning: The default value of numeric_only in DataFrame.sum is deprecated. In a future version, it will default to False. In addition, specifying 'numeric_only=None' is deprecated. Select only valid columns or specify the value of numeric_only to silence this warning.\n",
      "  df_sum = df.sum()\n"
     ]
    },
    {
     "data": {
      "text/html": [
       "<div>\n",
       "<style scoped>\n",
       "    .dataframe tbody tr th:only-of-type {\n",
       "        vertical-align: middle;\n",
       "    }\n",
       "\n",
       "    .dataframe tbody tr th {\n",
       "        vertical-align: top;\n",
       "    }\n",
       "\n",
       "    .dataframe thead th {\n",
       "        text-align: right;\n",
       "    }\n",
       "</style>\n",
       "<table border=\"1\" class=\"dataframe\">\n",
       "  <thead>\n",
       "    <tr style=\"text-align: right;\">\n",
       "      <th></th>\n",
       "      <th>Kernel Shape</th>\n",
       "      <th>Output Shape</th>\n",
       "      <th>Params</th>\n",
       "      <th>Mult-Adds</th>\n",
       "    </tr>\n",
       "    <tr>\n",
       "      <th>Layer</th>\n",
       "      <th></th>\n",
       "      <th></th>\n",
       "      <th></th>\n",
       "      <th></th>\n",
       "    </tr>\n",
       "  </thead>\n",
       "  <tbody>\n",
       "    <tr>\n",
       "      <th>0_prefix_model.layer.Linear_0</th>\n",
       "      <td>[3, 512]</td>\n",
       "      <td>[1, 512]</td>\n",
       "      <td>2048.0</td>\n",
       "      <td>1536.0</td>\n",
       "    </tr>\n",
       "    <tr>\n",
       "      <th>1_prefix_model.layer.ReLU_1</th>\n",
       "      <td>-</td>\n",
       "      <td>[1, 512]</td>\n",
       "      <td>NaN</td>\n",
       "      <td>NaN</td>\n",
       "    </tr>\n",
       "    <tr>\n",
       "      <th>2_prefix_model.layer.Linear_2</th>\n",
       "      <td>[512, 512]</td>\n",
       "      <td>[1, 512]</td>\n",
       "      <td>262656.0</td>\n",
       "      <td>262144.0</td>\n",
       "    </tr>\n",
       "    <tr>\n",
       "      <th>3_prefix_model.layer.ReLU_3</th>\n",
       "      <td>-</td>\n",
       "      <td>[1, 512]</td>\n",
       "      <td>NaN</td>\n",
       "      <td>NaN</td>\n",
       "    </tr>\n",
       "    <tr>\n",
       "      <th>4_prefix_model.layer.Linear_4</th>\n",
       "      <td>[512, 10]</td>\n",
       "      <td>[1, 10]</td>\n",
       "      <td>5130.0</td>\n",
       "      <td>5120.0</td>\n",
       "    </tr>\n",
       "    <tr>\n",
       "      <th>5_prefix_model.layer.ReLU_5</th>\n",
       "      <td>-</td>\n",
       "      <td>[1, 10]</td>\n",
       "      <td>NaN</td>\n",
       "      <td>NaN</td>\n",
       "    </tr>\n",
       "  </tbody>\n",
       "</table>\n",
       "</div>"
      ],
      "text/plain": [
       "                              Kernel Shape Output Shape    Params  Mult-Adds\n",
       "Layer                                                                       \n",
       "0_prefix_model.layer.Linear_0     [3, 512]     [1, 512]    2048.0     1536.0\n",
       "1_prefix_model.layer.ReLU_1              -     [1, 512]       NaN        NaN\n",
       "2_prefix_model.layer.Linear_2   [512, 512]     [1, 512]  262656.0   262144.0\n",
       "3_prefix_model.layer.ReLU_3              -     [1, 512]       NaN        NaN\n",
       "4_prefix_model.layer.Linear_4    [512, 10]      [1, 10]    5130.0     5120.0\n",
       "5_prefix_model.layer.ReLU_5              -      [1, 10]       NaN        NaN"
      ]
     },
     "execution_count": 99,
     "metadata": {},
     "output_type": "execute_result"
    }
   ],
   "source": [
    "summary(style_transfer_model, tokenized)"
   ]
  },
  {
   "cell_type": "code",
   "execution_count": null,
   "metadata": {},
   "outputs": [],
   "source": []
  }
 ],
 "metadata": {
  "kernelspec": {
   "display_name": "nlp2",
   "language": "python",
   "name": "python3"
  },
  "language_info": {
   "codemirror_mode": {
    "name": "ipython",
    "version": 3
   },
   "file_extension": ".py",
   "mimetype": "text/x-python",
   "name": "python",
   "nbconvert_exporter": "python",
   "pygments_lexer": "ipython3",
   "version": "3.9.16"
  },
  "orig_nbformat": 4
 },
 "nbformat": 4,
 "nbformat_minor": 2
}
