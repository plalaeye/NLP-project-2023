{
  "cells": [
    {
      "cell_type": "code",
      "execution_count": 3,
      "metadata": {
        "colab": {
          "base_uri": "https://localhost:8080/"
        },
        "id": "sZCcOTMfohZn",
        "outputId": "12db7411-2363-4b20-ed54-54543341af4c"
      },
      "outputs": [],
      "source": [
        "# !pip install pytorch-lightning wandb"
      ]
    },
    {
      "cell_type": "code",
      "execution_count": 4,
      "metadata": {
        "colab": {
          "base_uri": "https://localhost:8080/"
        },
        "id": "9j6TVUs1ozVb",
        "outputId": "5ecf0ee9-9551-48c6-dd57-4690cf52cf55"
      },
      "outputs": [],
      "source": [
        "# !pip install pythainlp"
      ]
    },
    {
      "cell_type": "code",
      "execution_count": 1,
      "metadata": {
        "id": "k90VKJHloPGo"
      },
      "outputs": [],
      "source": [
        "import pickle\n",
        "import numpy as np\n",
        "import pandas as pd\n",
        "\n",
        "import torch\n",
        "import pytorch_lightning as pl"
      ]
    },
    {
      "cell_type": "code",
      "execution_count": 2,
      "metadata": {
        "id": "aLJjOakWoPGr"
      },
      "outputs": [],
      "source": [
        "data_path = 'data/'\n",
        "device = torch.device(\"cuda:0\" if torch.cuda.is_available() else \"cpu\")"
      ]
    },
    {
      "cell_type": "code",
      "execution_count": 3,
      "metadata": {
        "colab": {
          "base_uri": "https://localhost:8080/"
        },
        "id": "5L6bQahPoPGr",
        "outputId": "859aa83c-153d-4cb6-86cc-a69a40b164f1"
      },
      "outputs": [],
      "source": [
        "# !wandb login"
      ]
    },
    {
      "cell_type": "code",
      "execution_count": 4,
      "metadata": {},
      "outputs": [],
      "source": [
        "# from pythainlp.corpus import download\n",
        "# download('ltw2v_v1.0_5_window')"
      ]
    },
    {
      "cell_type": "markdown",
      "metadata": {
        "id": "_JBNrAZloPGs"
      },
      "source": [
        "## Load data"
      ]
    },
    {
      "cell_type": "code",
      "execution_count": 3,
      "metadata": {
        "id": "f_XnEgJLoPGt"
      },
      "outputs": [],
      "source": [
        "train = pd.read_csv(data_path + 'train.csv')\n",
        "val = pd.read_csv(data_path + 'val.csv')"
      ]
    },
    {
      "cell_type": "code",
      "execution_count": 4,
      "metadata": {},
      "outputs": [
        {
          "data": {
            "text/plain": [
              "((9507, 2), (3169, 2))"
            ]
          },
          "execution_count": 4,
          "metadata": {},
          "output_type": "execute_result"
        }
      ],
      "source": [
        "train.shape, val.shape"
      ]
    },
    {
      "cell_type": "code",
      "execution_count": 5,
      "metadata": {
        "id": "YZq_4D9O6JhN"
      },
      "outputs": [],
      "source": [
        "# remove sentences that longer than 100 characters\n",
        "train_mask = train.text.str.len() <= 120\n",
        "filter_train = train[train_mask]\n",
        "\n",
        "val_mask = val.text.str.len() <= 120\n",
        "filter_val = val[val_mask]\n"
      ]
    },
    {
      "cell_type": "code",
      "execution_count": 6,
      "metadata": {},
      "outputs": [
        {
          "data": {
            "text/plain": [
              "((5091, 2), (1738, 2))"
            ]
          },
          "execution_count": 6,
          "metadata": {},
          "output_type": "execute_result"
        }
      ],
      "source": [
        "filter_train.shape, filter_val.shape"
      ]
    },
    {
      "attachments": {},
      "cell_type": "markdown",
      "metadata": {},
      "source": [
        "### Word Vectorization"
      ]
    },
    {
      "cell_type": "code",
      "execution_count": 7,
      "metadata": {
        "id": "fyQGVHGCoPGt"
      },
      "outputs": [],
      "source": [
        "from pythainlp import word_tokenize\n",
        "from torchtext import vocab\n",
        "from collections import Counter"
      ]
    },
    {
      "cell_type": "code",
      "execution_count": 8,
      "metadata": {},
      "outputs": [],
      "source": [
        "train_tokens = filter_train.text.apply(word_tokenize)\n",
        "val_tokens = filter_val.text.apply(word_tokenize)\n",
        "\n",
        "train_labels = filter_train.label.to_numpy()\n",
        "val_labels = filter_val.label.to_numpy()"
      ]
    },
    {
      "cell_type": "code",
      "execution_count": 9,
      "metadata": {},
      "outputs": [
        {
          "name": "stdout",
          "output_type": "stream",
          "text": [
            "1\n",
            "1\n"
          ]
        }
      ],
      "source": [
        "counter = Counter(train_tokens.sum())\n",
        "unk_token = '<unk>'\n",
        "default_index = -1\n",
        "v1 = vocab.vocab(counter, specials=[\"</s>\", \"<unk>\",])\n",
        "v1.set_default_index(1)\n",
        "print(v1[\"<unk>\"]) #prints 0\n",
        "print(v1['out of vocab']) #prints 0"
      ]
    },
    {
      "cell_type": "code",
      "execution_count": 10,
      "metadata": {
        "colab": {
          "base_uri": "https://localhost:8080/"
        },
        "id": "Lk8VbCXzoPGu",
        "outputId": "ba76877a-8c68-4f10-95cc-2467498c189c"
      },
      "outputs": [
        {
          "name": "stdout",
          "output_type": "stream",
          "text": [
            "vocal size is 7909\n"
          ]
        }
      ],
      "source": [
        "vocab_size = len(v1)\n",
        "print(f\"vocal size is {vocab_size}\")\n",
        "text_pipeline = lambda sent: v1.lookup_indices(sent) # add </s> to the end of each sentence\n",
        "text_decoding = lambda encoded: \"\".join(v1.lookup_tokens(encoded))"
      ]
    },
    {
      "cell_type": "code",
      "execution_count": 11,
      "metadata": {
        "colab": {
          "base_uri": "https://localhost:8080/"
        },
        "id": "4-r76Hd_oPGu",
        "outputId": "b7d82312-a8ea-496f-8cb5-c88fa50807be"
      },
      "outputs": [
        {
          "name": "stdout",
          "output_type": "stream",
          "text": [
            "original: ก็เพราะมันจะมาทำลายธุรกิจถูกกฎหมายของประเทศที่ทำงินมหาศาลในแต่ละปีไงล่ะจึงต้องตัดไฟเสียแต่ต้นลม\n",
            "encoded: [2, 3, 4, 5, 6, 7, 8, 9, 10, 11, 12, 13, 14, 15, 16, 17, 18, 19, 20, 21, 22, 23, 24, 25, 26, 27, 28]\n",
            "decoded: ก็เพราะมันจะมาทำลายธุรกิจถูกกฎหมายของประเทศที่ทำงินมหาศาลในแต่ละปีไงล่ะจึงต้องตัดไฟเสียแต่ต้นลม\n"
          ]
        }
      ],
      "source": [
        "encoded_sent = text_pipeline(train_tokens[2])\n",
        "print(\"original:\", \"\".join(train_tokens[2]))\n",
        "print(\"encoded:\", encoded_sent)\n",
        "print(\"decoded:\", text_decoding(encoded_sent))"
      ]
    },
    {
      "cell_type": "code",
      "execution_count": 12,
      "metadata": {},
      "outputs": [],
      "source": [
        "from pythainlp.corpus import get_corpus_path\n",
        "model_path = get_corpus_path('ltw2v_v1.0_5_window')"
      ]
    },
    {
      "cell_type": "code",
      "execution_count": 13,
      "metadata": {},
      "outputs": [],
      "source": [
        "from gensim.models import KeyedVectors\n",
        "\n",
        "model5 = KeyedVectors.load_word2vec_format(model_path, binary=True, unicode_errors='ignore')"
      ]
    },
    {
      "cell_type": "code",
      "execution_count": 14,
      "metadata": {},
      "outputs": [
        {
          "data": {
            "text/plain": [
              "400"
            ]
          },
          "execution_count": 14,
          "metadata": {},
          "output_type": "execute_result"
        }
      ],
      "source": [
        "model5.vector_size"
      ]
    },
    {
      "cell_type": "code",
      "execution_count": 15,
      "metadata": {},
      "outputs": [
        {
          "name": "stdout",
          "output_type": "stream",
          "text": [
            "word_found = 6772\n"
          ]
        }
      ],
      "source": [
        "weights_matrix = np.zeros((vocab_size, 400))\n",
        "words_found = 0\n",
        "\n",
        "oov = []\n",
        "for i, word in enumerate(v1.get_itos()):\n",
        "    try: \n",
        "        weights_matrix[i] = model5[word]\n",
        "        words_found += 1\n",
        "    except KeyError:\n",
        "        oov.append(i)\n",
        "print(\"word_found =\",words_found)\n",
        "mean_vector = np.mean(weights_matrix, axis=0)\n",
        "weights_matrix[oov] = mean_vector"
      ]
    },
    {
      "cell_type": "code",
      "execution_count": 16,
      "metadata": {},
      "outputs": [],
      "source": [
        "weights_matrix = torch.FloatTensor(weights_matrix)"
      ]
    },
    {
      "cell_type": "markdown",
      "metadata": {
        "id": "fxrfx23WoPGv"
      },
      "source": [
        "### Prepare Dataloader"
      ]
    },
    {
      "cell_type": "code",
      "execution_count": 17,
      "metadata": {
        "id": "Ul0bWY3ZoPGv"
      },
      "outputs": [],
      "source": [
        "max_train_len = len(max(train_tokens, key=len))\n",
        "max_val_len = len(max(val_tokens, key=len))"
      ]
    },
    {
      "cell_type": "code",
      "execution_count": 18,
      "metadata": {
        "colab": {
          "base_uri": "https://localhost:8080/"
        },
        "id": "idY4-adDoPGv",
        "outputId": "b9cd177e-9e6a-4045-b248-1abf7f4eb2c8"
      },
      "outputs": [
        {
          "name": "stdout",
          "output_type": "stream",
          "text": [
            "Max train length: 49\n",
            "Max val length: 46\n"
          ]
        }
      ],
      "source": [
        "print(\"Max train length:\", max_train_len)\n",
        "print(\"Max val length:\", max_val_len)"
      ]
    },
    {
      "cell_type": "code",
      "execution_count": 19,
      "metadata": {
        "id": "jq1kNbjfkx-i"
      },
      "outputs": [],
      "source": [
        "from torch.nn.utils.rnn import pad_sequence\n",
        "\n",
        "x_train = [torch.LongTensor(sentence) for sentence in train_tokens.apply(text_pipeline)]\n",
        "x_val = [torch.LongTensor(sentence) for sentence in val_tokens.apply(text_pipeline)] \n",
        "\n",
        "x_train = pad_sequence(x_train, batch_first=True)\n",
        "x_val = pad_sequence(x_val, batch_first=True)\n",
        "\n",
        "# Pad the sequence length of x_test to be maxlen \n",
        "remaining_len = x_train.size(1) - x_val.size(1)\n",
        "remaining_mat = torch.zeros((x_val.size(0), remaining_len), dtype=torch.long) \n",
        "x_val = torch.cat((x_val, remaining_mat), dim=1) "
      ]
    },
    {
      "cell_type": "code",
      "execution_count": 23,
      "metadata": {
        "id": "X-iTzF4A_YUq"
      },
      "outputs": [],
      "source": [
        "impolite_train = x_train[train_labels == 0]\n",
        "polite_train = x_train[train_labels == 1]\n",
        "\n",
        "impolite_val = x_val[val_labels == 0]\n",
        "polite_val = x_val[val_labels == 1]"
      ]
    },
    {
      "cell_type": "code",
      "execution_count": 24,
      "metadata": {
        "id": "zGD7iFBooPGw"
      },
      "outputs": [],
      "source": [
        "from torch.utils.data import Dataset, DataLoader\n",
        "\n",
        "class PolitenessDataset(Dataset):\n",
        "    def __init__(self, data, labels):\n",
        "        self.encoded = data\n",
        "        self.labels = labels\n",
        "\n",
        "    def __len__(self):\n",
        "        return len(self.encoded)\n",
        "\n",
        "    def __getitem__(self, idx):\n",
        "        return self.encoded[idx], self.labels[idx]\n",
        "\n",
        "class ConcatDataset(torch.utils.data.Dataset):\n",
        "    def __init__(self, *datasets):\n",
        "        self.datasets = datasets\n",
        "\n",
        "    def __getitem__(self, i):\n",
        "        return tuple(d[i] for d in self.datasets)\n",
        "\n",
        "    def __len__(self):\n",
        "        return min(len(d) for d in self.datasets)"
      ]
    },
    {
      "cell_type": "code",
      "execution_count": 25,
      "metadata": {
        "id": "sD58cJpboPGw"
      },
      "outputs": [],
      "source": [
        "from torch.nn.utils.rnn import pad_sequence\n",
        "\n",
        "class PolitenessDataModule(pl.LightningDataModule):\n",
        "  def __init__(self, batch_size, num_workers=0):\n",
        "      super().__init__()\n",
        "      self.batch_size = batch_size\n",
        "      self.num_workers = num_workers\n",
        "\n",
        "  def setup(self, stage: str):\n",
        "      pass\n",
        "\n",
        "  def train_dataloader(self):\n",
        "      train_loader = DataLoader(ConcatDataset(\n",
        "                          PolitenessDataset(impolite_train, torch.zeros(impolite_train.shape[0])),\n",
        "                          PolitenessDataset(polite_train, torch.ones(polite_train.shape[0]))\n",
        "                      ),\n",
        "                      batch_size = self.batch_size, \n",
        "                      shuffle = True, \n",
        "                      num_workers = self.num_workers)\n",
        "\n",
        "      return train_loader\n",
        "  \n",
        "  def val_dataloader(self):\n",
        "      val_loader = DataLoader(ConcatDataset(\n",
        "                          PolitenessDataset(impolite_val, torch.zeros(impolite_val.shape[0])),\n",
        "                          PolitenessDataset(polite_val, torch.ones(impolite_val.shape[0]))\n",
        "                      ),\n",
        "                      batch_size = self.batch_size, \n",
        "                      shuffle = False, \n",
        "                      num_workers = self.num_workers)\n",
        "      return val_loader\n"
      ]
    },
    {
      "cell_type": "code",
      "execution_count": 26,
      "metadata": {
        "id": "Sqi__U2ooPGy"
      },
      "outputs": [],
      "source": [
        "batch_size = 64\n",
        "data_module = PolitenessDataModule(batch_size=batch_size)"
      ]
    },
    {
      "cell_type": "code",
      "execution_count": 26,
      "metadata": {
        "colab": {
          "base_uri": "https://localhost:8080/"
        },
        "id": "0wqENvEzqvaT",
        "outputId": "692b14d0-1faf-4459-f091-d8e600c5c224"
      },
      "outputs": [],
      "source": [
        "# batch = next(iter(data_module.train_dataloader()))\n",
        "# batch"
      ]
    },
    {
      "cell_type": "markdown",
      "metadata": {
        "id": "k3LW2BZEoPGw"
      },
      "source": [
        "## Models"
      ]
    },
    {
      "cell_type": "code",
      "execution_count": 27,
      "metadata": {
        "id": "7j4EAOX4oPGw"
      },
      "outputs": [],
      "source": [
        "from torch import nn\n",
        "import torch.nn.functional as F\n",
        "import torch.optim as optim\n",
        "\n",
        "from pytorch_lightning import Trainer"
      ]
    },
    {
      "cell_type": "code",
      "execution_count": 28,
      "metadata": {
        "id": "8E-ricTInn7S"
      },
      "outputs": [],
      "source": [
        "Ty = max_train_len"
      ]
    },
    {
      "cell_type": "code",
      "execution_count": 29,
      "metadata": {},
      "outputs": [],
      "source": [
        "def create_emb_layer(weights_matrix, non_trainable=False):\n",
        "    num_embeddings, embedding_dim = weights_matrix.shape\n",
        "    emb_layer = nn.Embedding(num_embeddings, embedding_dim)\n",
        "    emb_layer.load_state_dict({'weight': weights_matrix})\n",
        "    if non_trainable:\n",
        "        emb_layer.weight.requires_grad = False\n",
        "\n",
        "    return emb_layer, num_embeddings, embedding_dim"
      ]
    },
    {
      "cell_type": "code",
      "execution_count": 30,
      "metadata": {
        "id": "zIiV-BYOoPGx"
      },
      "outputs": [],
      "source": [
        "class Encoder(nn.Module):\n",
        "    def __init__(self, weights_matrix, hidden_dim, n_layers=1):\n",
        "        super().__init__()\n",
        "        embedding, num_embeddings, embedding_dim = create_emb_layer(weights_matrix)\n",
        "        self.vocab_size = num_embeddings\n",
        "        self.embedding_size = embedding_dim\n",
        "        \n",
        "        self.embedding = embedding\n",
        "        self.lstm = nn.LSTM(self.embedding_size, hidden_dim, n_layers, batch_first=True)\n",
        "       \n",
        "    def forward(self, x):\n",
        "        embedded_x = self.embedding(x)\n",
        "        _, (hidden, _) = self.lstm(embedded_x)\n",
        "        return hidden[-1]\n",
        "    \n",
        "\n",
        "class Decoder(nn.Module):\n",
        "    def __init__(self, vocab_size, input_dim, hidden_dim, dropout_rate=0.3):\n",
        "        super().__init__()\n",
        "        self.vocab_size = vocab_size\n",
        "        self.lstm_cell = nn.LSTMCell(input_dim, hidden_dim)\n",
        "        self.fc = nn.Linear(hidden_dim, self.vocab_size)\n",
        "        self.dropout = nn.Dropout(dropout_rate)\n",
        "\n",
        "    def forward(self, x, hx, cx):\n",
        "        hx, cx = self.lstm_cell(x, (hx, cx))\n",
        "        logit = self.fc(hx)\n",
        "        return logit, hx, cx"
      ]
    },
    {
      "cell_type": "code",
      "execution_count": 31,
      "metadata": {
        "id": "kuRfam1PoPGx"
      },
      "outputs": [],
      "source": [
        "class MultiDecoderModel(pl.LightningModule):\n",
        "    def __init__(self, weights_matrix, criterion1, criterion2, learning_rate):\n",
        "        super().__init__()\n",
        "        self.vocab_size = weights_matrix.shape[0]\n",
        "        self.embedding_dim = weights_matrix.shape[1]\n",
        "        \n",
        "        self.hidden_dim = 64\n",
        "        self.encoder = Encoder(weights_matrix, self.hidden_dim)\n",
        "        self.decoders = nn.ModuleList([Decoder(self.vocab_size, self.hidden_dim, self.hidden_dim) for i in range(2)])\n",
        "\n",
        "        self.classifier = nn.Sequential(\n",
        "            nn.Linear(self.hidden_dim, 32),\n",
        "            nn.Linear(32, 1),\n",
        "            nn.Sigmoid()\n",
        "        )\n",
        "\n",
        "        self.learning_rate = learning_rate\n",
        "        self.decoder_criterion = criterion1\n",
        "        self.cls_criterion = criterion2\n",
        "\n",
        "    def forward(self, src, label_idx):\n",
        "        context = self.encoder(src)\n",
        "        decoder_h = torch.randn(src.shape[0], self.hidden_dim).to(self.decoders[label_idx].lstm_cell.weight_ih.device)\n",
        "        decoder_c = torch.randn(src.shape[0], self.hidden_dim).to(self.decoders[label_idx].lstm_cell.weight_ih.device)\n",
        "\n",
        "        prediction = torch.zeros((src.shape[0], Ty, self.vocab_size)).to(self.decoders[label_idx].lstm_cell.weight_ih.device)\n",
        "        \n",
        "        # Iterate until max_output_length\n",
        "        for t in range(Ty):\n",
        "            out, decoder_h, decoder_c = self.decoders[label_idx](context, decoder_h, decoder_c)\n",
        "\n",
        "            prediction[:, t] = out\n",
        "        return prediction, context\n",
        "    \n",
        "    def training_step(self, batch, batch_idx):\n",
        "        impolite_inputs, impolite_labels = batch[0]\n",
        "        polite_inputs, polite_labels = batch[1]\n",
        "        \n",
        "        # create context and predction for each style\n",
        "        prediction_0, context_0 = self(impolite_inputs, 0)\n",
        "        prediction_1, context_1 = self(polite_inputs, 1)\n",
        "\n",
        "        contexts = torch.concat([context_0, context_1])\n",
        "        labels = torch.concat([impolite_labels, polite_labels])\n",
        "\n",
        "        # classification from context vector\n",
        "        y_pred = self.classifier(contexts)\n",
        "        y_pred = y_pred.squeeze()\n",
        "        adv_loss1 = self.cls_criterion(y_pred, labels)\n",
        "        adv_loss2 = torch.mean(y_pred * torch.log2(y_pred) + (1 - y_pred) * torch.log2(1 - y_pred)) # negative of entropy\n",
        "\n",
        "        # calculate loss of each decoder networks\n",
        "        gen0_loss = self.decoder_criterion(prediction_0.reshape(-1, vocab_size), impolite_inputs.reshape(-1)) # match impolite prediction to impolite inputs\n",
        "        gen1_loss = self.decoder_criterion(prediction_1.reshape(-1, vocab_size), polite_inputs.reshape(-1)) # match polite prediction to polite inputs\n",
        "    \n",
        "        # total lostt\n",
        "        loss = gen0_loss + gen1_loss + adv_loss1 + adv_loss2\n",
        "\n",
        "        self.log(\"training_loss\", loss)\n",
        "        self.log(\"training_gen_loss\", gen1_loss + gen0_loss)\n",
        "        self.log(\"training_adversarial_loss_1\", adv_loss1)\n",
        "        self.log(\"training_adversarial_loss_2\", adv_loss2)\n",
        "        return loss\n",
        "\n",
        "    def validation_step(self, batch, batch_idx):\n",
        "        impolite_inputs, impolite_labels = batch[0]\n",
        "        polite_inputs, polite_labels = batch[1]\n",
        "\n",
        "        with torch.no_grad():\n",
        "            prediction_0, context_0 = self(impolite_inputs, 0)\n",
        "            prediction_1, context_1 = self(polite_inputs, 1)\n",
        "\n",
        "            contexts = torch.concat([context_0, context_1])\n",
        "            labels = torch.concat([impolite_labels, polite_labels])\n",
        "\n",
        "            # classification from context vector\n",
        "            y_pred = self.classifier(contexts)\n",
        "            y_pred = y_pred.squeeze()\n",
        "            adv_loss1 = self.cls_criterion(y_pred, labels)\n",
        "            adv_loss2 = torch.mean(y_pred * torch.log2(y_pred) + (1 - y_pred) * torch.log2(1 - y_pred)) # negative of entropy\n",
        "\n",
        "            # calculate loss of each decoder networks\n",
        "            gen0_loss = self.decoder_criterion(prediction_0.reshape(-1, vocab_size), impolite_inputs.reshape(-1))\n",
        "            gen1_loss = self.decoder_criterion(prediction_1.reshape(-1, vocab_size), polite_inputs.reshape(-1))\n",
        "        \n",
        "            # total lostt\n",
        "            loss = gen0_loss + gen1_loss + adv_loss1 + adv_loss2\n",
        "\n",
        "        self.log(\"val_loss\", loss)\n",
        "        self.log(\"val_gen_loss\", gen1_loss + gen0_loss)\n",
        "        self.log(\"val_adversarial_loss\", adv_loss1)\n",
        "        self.log(\"val_adversarial_loss\", adv_loss2)\n",
        "        return loss\n",
        "    \n",
        "    def predict_step(self, batch, batch_idx, dataloader_idx=0):\n",
        "        inputs, labels = batch\n",
        "        with torch.no_grad():\n",
        "          prediction, _ = self(inputs, 1)\n",
        "          prediction = F.softmax(prediction, dim=-1)\n",
        "          prediction = torch.argmax(prediction, dim=-1)\n",
        "          for pred in prediction:\n",
        "            print(\"\".join(v1.lookup_tokens(pred.cpu().numpy())))\n",
        "        return prediction\n",
        "    \n",
        "    def configure_optimizers(self):\n",
        "        return optim.Adadelta(self.parameters(), lr=self.learning_rate)"
      ]
    },
    {
      "cell_type": "code",
      "execution_count": 28,
      "metadata": {
        "id": "rMW6E5RZoPGx"
      },
      "outputs": [
        {
          "ename": "NameError",
          "evalue": "name 'weights_matrix' is not defined",
          "output_type": "error",
          "traceback": [
            "\u001b[1;31m---------------------------------------------------------------------------\u001b[0m",
            "\u001b[1;31mNameError\u001b[0m                                 Traceback (most recent call last)",
            "Cell \u001b[1;32mIn[28], line 5\u001b[0m\n\u001b[0;32m      2\u001b[0m criterion1 \u001b[39m=\u001b[39m nn\u001b[39m.\u001b[39mCrossEntropyLoss()\n\u001b[0;32m      3\u001b[0m criterion2 \u001b[39m=\u001b[39m nn\u001b[39m.\u001b[39mBCELoss()\n\u001b[1;32m----> 5\u001b[0m model \u001b[39m=\u001b[39m MultiDecoderModel(weights_matrix, criterion1, criterion2, lr)\n",
            "\u001b[1;31mNameError\u001b[0m: name 'weights_matrix' is not defined"
          ]
        }
      ],
      "source": [
        "lr = 1e-2\n",
        "criterion1 = nn.CrossEntropyLoss()\n",
        "criterion2 = nn.BCELoss()\n",
        "\n",
        "model = MultiDecoderModel(weights_matrix, criterion1, criterion2, lr)"
      ]
    },
    {
      "cell_type": "code",
      "execution_count": 33,
      "metadata": {
        "colab": {
          "base_uri": "https://localhost:8080/",
          "height": 121
        },
        "id": "jxfaaUY2oPGy",
        "outputId": "7c11b5f2-3b6b-49fa-a28b-4ff0161ee19f"
      },
      "outputs": [
        {
          "name": "stderr",
          "output_type": "stream",
          "text": [
            "Failed to detect the name of this notebook, you can set it manually with the WANDB_NOTEBOOK_NAME environment variable to enable code saving.\n",
            "\u001b[34m\u001b[1mwandb\u001b[0m: Currently logged in as: \u001b[33msahatsarin07\u001b[0m. Use \u001b[1m`wandb login --relogin`\u001b[0m to force relogin\n"
          ]
        },
        {
          "data": {
            "application/vnd.jupyter.widget-view+json": {
              "model_id": "1b1847a5e84a4c7099719d77f854b679",
              "version_major": 2,
              "version_minor": 0
            },
            "text/plain": [
              "VBox(children=(Label(value='Waiting for wandb.init()...\\r'), FloatProgress(value=0.016666666666666666, max=1.0…"
            ]
          },
          "metadata": {},
          "output_type": "display_data"
        },
        {
          "data": {
            "text/html": [
              "wandb version 0.15.0 is available!  To upgrade, please run:\n",
              " $ pip install wandb --upgrade"
            ],
            "text/plain": [
              "<IPython.core.display.HTML object>"
            ]
          },
          "metadata": {},
          "output_type": "display_data"
        },
        {
          "data": {
            "text/html": [
              "Tracking run with wandb version 0.13.11"
            ],
            "text/plain": [
              "<IPython.core.display.HTML object>"
            ]
          },
          "metadata": {},
          "output_type": "display_data"
        },
        {
          "data": {
            "text/html": [
              "Run data is saved locally in <code>.\\wandb\\run-20230501_021503-vgmsjnp1</code>"
            ],
            "text/plain": [
              "<IPython.core.display.HTML object>"
            ]
          },
          "metadata": {},
          "output_type": "display_data"
        },
        {
          "data": {
            "text/html": [
              "Syncing run <strong><a href='https://wandb.ai/sahatsarin07/final_project/runs/vgmsjnp1' target=\"_blank\">daily-sun-27</a></strong> to <a href='https://wandb.ai/sahatsarin07/final_project' target=\"_blank\">Weights & Biases</a> (<a href='https://wandb.me/run' target=\"_blank\">docs</a>)<br/>"
            ],
            "text/plain": [
              "<IPython.core.display.HTML object>"
            ]
          },
          "metadata": {},
          "output_type": "display_data"
        },
        {
          "data": {
            "text/html": [
              " View project at <a href='https://wandb.ai/sahatsarin07/final_project' target=\"_blank\">https://wandb.ai/sahatsarin07/final_project</a>"
            ],
            "text/plain": [
              "<IPython.core.display.HTML object>"
            ]
          },
          "metadata": {},
          "output_type": "display_data"
        },
        {
          "data": {
            "text/html": [
              " View run at <a href='https://wandb.ai/sahatsarin07/final_project/runs/vgmsjnp1' target=\"_blank\">https://wandb.ai/sahatsarin07/final_project/runs/vgmsjnp1</a>"
            ],
            "text/plain": [
              "<IPython.core.display.HTML object>"
            ]
          },
          "metadata": {},
          "output_type": "display_data"
        }
      ],
      "source": [
        "import wandb\n",
        "from pytorch_lightning.loggers import WandbLogger\n",
        "wandb_logger = WandbLogger(project=\"final_project\")"
      ]
    },
    {
      "cell_type": "code",
      "execution_count": 34,
      "metadata": {
        "colab": {
          "base_uri": "https://localhost:8080/"
        },
        "id": "wo_dLvkyoPGy",
        "outputId": "6291ef50-c6d1-4610-9f2a-727c4e4af805"
      },
      "outputs": [
        {
          "name": "stderr",
          "output_type": "stream",
          "text": [
            "GPU available: True (cuda), used: True\n",
            "TPU available: False, using: 0 TPU cores\n",
            "IPU available: False, using: 0 IPUs\n",
            "HPU available: False, using: 0 HPUs\n"
          ]
        }
      ],
      "source": [
        "trainer = Trainer(\n",
        "    default_root_dir='checkpoints/multi_decoder/round_2/',\n",
        "    max_epochs=50,\n",
        "    devices=1,\n",
        "    logger=wandb_logger,\n",
        "    callbacks=[pl.callbacks.ModelCheckpoint(filename='mymodel-epoch{epoch:02d}', dirpath='checkpoints/multi_decoder/round_2/', monitor='val_loss')]\n",
        ")"
      ]
    },
    {
      "cell_type": "code",
      "execution_count": 35,
      "metadata": {
        "colab": {
          "base_uri": "https://localhost:8080/",
          "height": 292,
          "referenced_widgets": [
            "1ec67328ce734b4cb08d98c5ff728a3e",
            "e7baa206529741be9506611e61c3134a",
            "9e394140bf7b43fdadd2f6135759af0d",
            "44a209753da64f50b8456c5414a56c82",
            "3960c01c07d648c5be9e1a7d0499d685",
            "f6691e336b034ca69ab7b5173ad45927",
            "2619d4c6e2124d1580b2044037ea3790",
            "aca7480a43ac4c5bb18a5c769beaa618",
            "5e0f8bed90044510b4d70558c70f1db0",
            "c317c49b0d0245729dbe393987a85c5a",
            "daa1f9b03ec343bca258cf8b4b24ceaa",
            "7efd8c16a437466392d5c80898dc453d",
            "3b53be61fecf450b9c2e24279cd374fa",
            "1b2b8900c0db4fbaa7c08ba3b9f57106",
            "8877bef6d9254e77ba10fd12abfa9db3",
            "b17ca1d7f09d4b098f4fb4799e6c25ef",
            "503a1754335041b0990362a8ea157211",
            "507c8dc5d13e44a9a85269b7cee93f0b",
            "180ddfc76e104625b17af78d35d84e33",
            "142dd53a5cab403f8525f14bf9369fba",
            "36733d5f22c74f79af3700aa2da9bcb0",
            "ffd6d6b4f2994f26b483abeb742c87ff"
          ]
        },
        "id": "h-X5v0UNoPGy",
        "outputId": "ba7411d9-8585-4c4f-cbb5-e9b7a06e9e97"
      },
      "outputs": [
        {
          "name": "stderr",
          "output_type": "stream",
          "text": [
            "You are using a CUDA device ('NVIDIA GeForce RTX 3060 Laptop GPU') that has Tensor Cores. To properly utilize them, you should set `torch.set_float32_matmul_precision('medium' | 'high')` which will trade-off precision for performance. For more details, read https://pytorch.org/docs/stable/generated/torch.set_float32_matmul_precision.html#torch.set_float32_matmul_precision\n",
            "e:\\Programs\\miniconda3\\envs\\torch\\lib\\site-packages\\pytorch_lightning\\callbacks\\model_checkpoint.py:612: UserWarning: Checkpoint directory D:\\Projects\\NLP-project-2023\\checkpoints\\multi_decoder\\round_2 exists and is not empty.\n",
            "  rank_zero_warn(f\"Checkpoint directory {dirpath} exists and is not empty.\")\n",
            "LOCAL_RANK: 0 - CUDA_VISIBLE_DEVICES: [0]\n",
            "\n",
            "  | Name              | Type             | Params\n",
            "-------------------------------------------------------\n",
            "0 | encoder           | Encoder          | 3.3 M \n",
            "1 | decoders          | ModuleList       | 1.1 M \n",
            "2 | classifier        | Sequential       | 2.1 K \n",
            "3 | decoder_criterion | CrossEntropyLoss | 0     \n",
            "4 | cls_criterion     | BCELoss          | 0     \n",
            "-------------------------------------------------------\n",
            "4.4 M     Trainable params\n",
            "0         Non-trainable params\n",
            "4.4 M     Total params\n",
            "17.519    Total estimated model params size (MB)\n"
          ]
        },
        {
          "data": {
            "application/vnd.jupyter.widget-view+json": {
              "model_id": "610c0392d54e4bcfa5cccf266f14309d",
              "version_major": 2,
              "version_minor": 0
            },
            "text/plain": [
              "Sanity Checking: 0it [00:00, ?it/s]"
            ]
          },
          "metadata": {},
          "output_type": "display_data"
        },
        {
          "name": "stderr",
          "output_type": "stream",
          "text": [
            "e:\\Programs\\miniconda3\\envs\\torch\\lib\\site-packages\\pytorch_lightning\\trainer\\connectors\\data_connector.py:430: PossibleUserWarning: The dataloader, val_dataloader, does not have many workers which may be a bottleneck. Consider increasing the value of the `num_workers` argument` (try 12 which is the number of cpus on this machine) in the `DataLoader` init to improve performance.\n",
            "  rank_zero_warn(\n",
            "e:\\Programs\\miniconda3\\envs\\torch\\lib\\site-packages\\pytorch_lightning\\trainer\\connectors\\data_connector.py:430: PossibleUserWarning: The dataloader, train_dataloader, does not have many workers which may be a bottleneck. Consider increasing the value of the `num_workers` argument` (try 12 which is the number of cpus on this machine) in the `DataLoader` init to improve performance.\n",
            "  rank_zero_warn(\n",
            "e:\\Programs\\miniconda3\\envs\\torch\\lib\\site-packages\\pytorch_lightning\\loops\\fit_loop.py:280: PossibleUserWarning: The number of training batches (16) is smaller than the logging interval Trainer(log_every_n_steps=50). Set a lower value for log_every_n_steps if you want to see logs for the training epoch.\n",
            "  rank_zero_warn(\n"
          ]
        },
        {
          "data": {
            "application/vnd.jupyter.widget-view+json": {
              "model_id": "e497123e640741dba9f8ba3e7ee0a29b",
              "version_major": 2,
              "version_minor": 0
            },
            "text/plain": [
              "Training: 0it [00:00, ?it/s]"
            ]
          },
          "metadata": {},
          "output_type": "display_data"
        },
        {
          "data": {
            "application/vnd.jupyter.widget-view+json": {
              "model_id": "1b62fa8c60d84e729ff61006a57f9edb",
              "version_major": 2,
              "version_minor": 0
            },
            "text/plain": [
              "Validation: 0it [00:00, ?it/s]"
            ]
          },
          "metadata": {},
          "output_type": "display_data"
        },
        {
          "data": {
            "application/vnd.jupyter.widget-view+json": {
              "model_id": "b9632178317341d5af7e1b720665662a",
              "version_major": 2,
              "version_minor": 0
            },
            "text/plain": [
              "Validation: 0it [00:00, ?it/s]"
            ]
          },
          "metadata": {},
          "output_type": "display_data"
        },
        {
          "data": {
            "application/vnd.jupyter.widget-view+json": {
              "model_id": "729bdd2da61049b18e80632ac9e8955e",
              "version_major": 2,
              "version_minor": 0
            },
            "text/plain": [
              "Validation: 0it [00:00, ?it/s]"
            ]
          },
          "metadata": {},
          "output_type": "display_data"
        },
        {
          "data": {
            "application/vnd.jupyter.widget-view+json": {
              "model_id": "c35110f085e141d19d2e277b0696c45c",
              "version_major": 2,
              "version_minor": 0
            },
            "text/plain": [
              "Validation: 0it [00:00, ?it/s]"
            ]
          },
          "metadata": {},
          "output_type": "display_data"
        },
        {
          "data": {
            "application/vnd.jupyter.widget-view+json": {
              "model_id": "19ce11b345864971b6acca94f29291dd",
              "version_major": 2,
              "version_minor": 0
            },
            "text/plain": [
              "Validation: 0it [00:00, ?it/s]"
            ]
          },
          "metadata": {},
          "output_type": "display_data"
        },
        {
          "data": {
            "application/vnd.jupyter.widget-view+json": {
              "model_id": "48b2956357d34368a23f529ea7c5f695",
              "version_major": 2,
              "version_minor": 0
            },
            "text/plain": [
              "Validation: 0it [00:00, ?it/s]"
            ]
          },
          "metadata": {},
          "output_type": "display_data"
        },
        {
          "data": {
            "application/vnd.jupyter.widget-view+json": {
              "model_id": "bd12ead478064ea09517d31cc45c9d04",
              "version_major": 2,
              "version_minor": 0
            },
            "text/plain": [
              "Validation: 0it [00:00, ?it/s]"
            ]
          },
          "metadata": {},
          "output_type": "display_data"
        },
        {
          "data": {
            "application/vnd.jupyter.widget-view+json": {
              "model_id": "142d02221d0742ebbd932d5393af23c8",
              "version_major": 2,
              "version_minor": 0
            },
            "text/plain": [
              "Validation: 0it [00:00, ?it/s]"
            ]
          },
          "metadata": {},
          "output_type": "display_data"
        },
        {
          "data": {
            "application/vnd.jupyter.widget-view+json": {
              "model_id": "6cbfa005f4a143b49c910449c2bd1894",
              "version_major": 2,
              "version_minor": 0
            },
            "text/plain": [
              "Validation: 0it [00:00, ?it/s]"
            ]
          },
          "metadata": {},
          "output_type": "display_data"
        },
        {
          "data": {
            "application/vnd.jupyter.widget-view+json": {
              "model_id": "07035247ca4d45b5b9f91b5e64a70bc6",
              "version_major": 2,
              "version_minor": 0
            },
            "text/plain": [
              "Validation: 0it [00:00, ?it/s]"
            ]
          },
          "metadata": {},
          "output_type": "display_data"
        },
        {
          "data": {
            "application/vnd.jupyter.widget-view+json": {
              "model_id": "dada77ac4a71436c938bcaa43c622ea5",
              "version_major": 2,
              "version_minor": 0
            },
            "text/plain": [
              "Validation: 0it [00:00, ?it/s]"
            ]
          },
          "metadata": {},
          "output_type": "display_data"
        },
        {
          "data": {
            "application/vnd.jupyter.widget-view+json": {
              "model_id": "5e745ec028a94817b42b237902122490",
              "version_major": 2,
              "version_minor": 0
            },
            "text/plain": [
              "Validation: 0it [00:00, ?it/s]"
            ]
          },
          "metadata": {},
          "output_type": "display_data"
        },
        {
          "data": {
            "application/vnd.jupyter.widget-view+json": {
              "model_id": "5e2cca2e89f04743bc5cda1fc8a4d7f6",
              "version_major": 2,
              "version_minor": 0
            },
            "text/plain": [
              "Validation: 0it [00:00, ?it/s]"
            ]
          },
          "metadata": {},
          "output_type": "display_data"
        },
        {
          "data": {
            "application/vnd.jupyter.widget-view+json": {
              "model_id": "bbc6c20a30954e138bcd37b94bfa5b57",
              "version_major": 2,
              "version_minor": 0
            },
            "text/plain": [
              "Validation: 0it [00:00, ?it/s]"
            ]
          },
          "metadata": {},
          "output_type": "display_data"
        },
        {
          "data": {
            "application/vnd.jupyter.widget-view+json": {
              "model_id": "690efb8d00bd4d6eabb7fe604d551580",
              "version_major": 2,
              "version_minor": 0
            },
            "text/plain": [
              "Validation: 0it [00:00, ?it/s]"
            ]
          },
          "metadata": {},
          "output_type": "display_data"
        },
        {
          "data": {
            "application/vnd.jupyter.widget-view+json": {
              "model_id": "5c45fff82aab49908ebee3d1fb3d7695",
              "version_major": 2,
              "version_minor": 0
            },
            "text/plain": [
              "Validation: 0it [00:00, ?it/s]"
            ]
          },
          "metadata": {},
          "output_type": "display_data"
        },
        {
          "data": {
            "application/vnd.jupyter.widget-view+json": {
              "model_id": "0f77910b49b44d1b933ad16fa168fb1a",
              "version_major": 2,
              "version_minor": 0
            },
            "text/plain": [
              "Validation: 0it [00:00, ?it/s]"
            ]
          },
          "metadata": {},
          "output_type": "display_data"
        },
        {
          "data": {
            "application/vnd.jupyter.widget-view+json": {
              "model_id": "1a62d1b28daa4c17857fc84a3b414232",
              "version_major": 2,
              "version_minor": 0
            },
            "text/plain": [
              "Validation: 0it [00:00, ?it/s]"
            ]
          },
          "metadata": {},
          "output_type": "display_data"
        },
        {
          "data": {
            "application/vnd.jupyter.widget-view+json": {
              "model_id": "aaeed605cd324678b02e31cc9b3ea2ba",
              "version_major": 2,
              "version_minor": 0
            },
            "text/plain": [
              "Validation: 0it [00:00, ?it/s]"
            ]
          },
          "metadata": {},
          "output_type": "display_data"
        },
        {
          "data": {
            "application/vnd.jupyter.widget-view+json": {
              "model_id": "d7e5776f96584796b67242f40971f7b2",
              "version_major": 2,
              "version_minor": 0
            },
            "text/plain": [
              "Validation: 0it [00:00, ?it/s]"
            ]
          },
          "metadata": {},
          "output_type": "display_data"
        },
        {
          "data": {
            "application/vnd.jupyter.widget-view+json": {
              "model_id": "4ffcb3eb77dc4e3487586a2541e0c056",
              "version_major": 2,
              "version_minor": 0
            },
            "text/plain": [
              "Validation: 0it [00:00, ?it/s]"
            ]
          },
          "metadata": {},
          "output_type": "display_data"
        },
        {
          "data": {
            "application/vnd.jupyter.widget-view+json": {
              "model_id": "537335cd8c4d49bdaf53e18a6834cd94",
              "version_major": 2,
              "version_minor": 0
            },
            "text/plain": [
              "Validation: 0it [00:00, ?it/s]"
            ]
          },
          "metadata": {},
          "output_type": "display_data"
        },
        {
          "data": {
            "application/vnd.jupyter.widget-view+json": {
              "model_id": "8e1f9d18e09f45bcb8ea78dec9cd49e7",
              "version_major": 2,
              "version_minor": 0
            },
            "text/plain": [
              "Validation: 0it [00:00, ?it/s]"
            ]
          },
          "metadata": {},
          "output_type": "display_data"
        },
        {
          "data": {
            "application/vnd.jupyter.widget-view+json": {
              "model_id": "fb5d1cc034d0445b876c16005fcd1f4b",
              "version_major": 2,
              "version_minor": 0
            },
            "text/plain": [
              "Validation: 0it [00:00, ?it/s]"
            ]
          },
          "metadata": {},
          "output_type": "display_data"
        },
        {
          "data": {
            "application/vnd.jupyter.widget-view+json": {
              "model_id": "d23e76cd817a4c8caee627f53a776acf",
              "version_major": 2,
              "version_minor": 0
            },
            "text/plain": [
              "Validation: 0it [00:00, ?it/s]"
            ]
          },
          "metadata": {},
          "output_type": "display_data"
        },
        {
          "data": {
            "application/vnd.jupyter.widget-view+json": {
              "model_id": "ad2707cdb4ff425188b0313b497be52d",
              "version_major": 2,
              "version_minor": 0
            },
            "text/plain": [
              "Validation: 0it [00:00, ?it/s]"
            ]
          },
          "metadata": {},
          "output_type": "display_data"
        },
        {
          "data": {
            "application/vnd.jupyter.widget-view+json": {
              "model_id": "3fbe6d07c8744f689839ced2fcac615c",
              "version_major": 2,
              "version_minor": 0
            },
            "text/plain": [
              "Validation: 0it [00:00, ?it/s]"
            ]
          },
          "metadata": {},
          "output_type": "display_data"
        },
        {
          "data": {
            "application/vnd.jupyter.widget-view+json": {
              "model_id": "806559a3b06f49cc843b39c49caa456a",
              "version_major": 2,
              "version_minor": 0
            },
            "text/plain": [
              "Validation: 0it [00:00, ?it/s]"
            ]
          },
          "metadata": {},
          "output_type": "display_data"
        },
        {
          "data": {
            "application/vnd.jupyter.widget-view+json": {
              "model_id": "da5cc4cb4c1040b9a7e7f32b8a5a78ff",
              "version_major": 2,
              "version_minor": 0
            },
            "text/plain": [
              "Validation: 0it [00:00, ?it/s]"
            ]
          },
          "metadata": {},
          "output_type": "display_data"
        },
        {
          "data": {
            "application/vnd.jupyter.widget-view+json": {
              "model_id": "5db137dac59a40e3ba4c4f4747dd97a0",
              "version_major": 2,
              "version_minor": 0
            },
            "text/plain": [
              "Validation: 0it [00:00, ?it/s]"
            ]
          },
          "metadata": {},
          "output_type": "display_data"
        },
        {
          "data": {
            "application/vnd.jupyter.widget-view+json": {
              "model_id": "e1d41de5397442fdbe588fde03ee2c59",
              "version_major": 2,
              "version_minor": 0
            },
            "text/plain": [
              "Validation: 0it [00:00, ?it/s]"
            ]
          },
          "metadata": {},
          "output_type": "display_data"
        },
        {
          "data": {
            "application/vnd.jupyter.widget-view+json": {
              "model_id": "95b48afb0ecf47f49a15e9d5a7473e8a",
              "version_major": 2,
              "version_minor": 0
            },
            "text/plain": [
              "Validation: 0it [00:00, ?it/s]"
            ]
          },
          "metadata": {},
          "output_type": "display_data"
        },
        {
          "data": {
            "application/vnd.jupyter.widget-view+json": {
              "model_id": "bb9030a539384d2889f1da71b616a8c3",
              "version_major": 2,
              "version_minor": 0
            },
            "text/plain": [
              "Validation: 0it [00:00, ?it/s]"
            ]
          },
          "metadata": {},
          "output_type": "display_data"
        },
        {
          "data": {
            "application/vnd.jupyter.widget-view+json": {
              "model_id": "aa9bbf5de4b246b4893e5e67fc5a2187",
              "version_major": 2,
              "version_minor": 0
            },
            "text/plain": [
              "Validation: 0it [00:00, ?it/s]"
            ]
          },
          "metadata": {},
          "output_type": "display_data"
        },
        {
          "data": {
            "application/vnd.jupyter.widget-view+json": {
              "model_id": "29bd6bca1c1a413589692f2e97eeadff",
              "version_major": 2,
              "version_minor": 0
            },
            "text/plain": [
              "Validation: 0it [00:00, ?it/s]"
            ]
          },
          "metadata": {},
          "output_type": "display_data"
        },
        {
          "data": {
            "application/vnd.jupyter.widget-view+json": {
              "model_id": "f0cec6ba67ce48b795a42eea4ceccd80",
              "version_major": 2,
              "version_minor": 0
            },
            "text/plain": [
              "Validation: 0it [00:00, ?it/s]"
            ]
          },
          "metadata": {},
          "output_type": "display_data"
        },
        {
          "data": {
            "application/vnd.jupyter.widget-view+json": {
              "model_id": "d21393be376e463a87d18f3dc380ce8f",
              "version_major": 2,
              "version_minor": 0
            },
            "text/plain": [
              "Validation: 0it [00:00, ?it/s]"
            ]
          },
          "metadata": {},
          "output_type": "display_data"
        },
        {
          "data": {
            "application/vnd.jupyter.widget-view+json": {
              "model_id": "57233b902bdf4b568620b06584c57301",
              "version_major": 2,
              "version_minor": 0
            },
            "text/plain": [
              "Validation: 0it [00:00, ?it/s]"
            ]
          },
          "metadata": {},
          "output_type": "display_data"
        },
        {
          "data": {
            "application/vnd.jupyter.widget-view+json": {
              "model_id": "f171146b17e54864b4f04e42c75900e6",
              "version_major": 2,
              "version_minor": 0
            },
            "text/plain": [
              "Validation: 0it [00:00, ?it/s]"
            ]
          },
          "metadata": {},
          "output_type": "display_data"
        },
        {
          "data": {
            "application/vnd.jupyter.widget-view+json": {
              "model_id": "729a592d25aa4b70a90117d74daf5aaf",
              "version_major": 2,
              "version_minor": 0
            },
            "text/plain": [
              "Validation: 0it [00:00, ?it/s]"
            ]
          },
          "metadata": {},
          "output_type": "display_data"
        },
        {
          "data": {
            "application/vnd.jupyter.widget-view+json": {
              "model_id": "b6c4cbccc6f54393a77d09a54c33413d",
              "version_major": 2,
              "version_minor": 0
            },
            "text/plain": [
              "Validation: 0it [00:00, ?it/s]"
            ]
          },
          "metadata": {},
          "output_type": "display_data"
        },
        {
          "data": {
            "application/vnd.jupyter.widget-view+json": {
              "model_id": "d3a04c57d27e47429b8960dc30e50539",
              "version_major": 2,
              "version_minor": 0
            },
            "text/plain": [
              "Validation: 0it [00:00, ?it/s]"
            ]
          },
          "metadata": {},
          "output_type": "display_data"
        },
        {
          "data": {
            "application/vnd.jupyter.widget-view+json": {
              "model_id": "dd59f55164e44dbe84654bb15a96fe43",
              "version_major": 2,
              "version_minor": 0
            },
            "text/plain": [
              "Validation: 0it [00:00, ?it/s]"
            ]
          },
          "metadata": {},
          "output_type": "display_data"
        },
        {
          "data": {
            "application/vnd.jupyter.widget-view+json": {
              "model_id": "b06d475df5824ed586e45ff4707cb27a",
              "version_major": 2,
              "version_minor": 0
            },
            "text/plain": [
              "Validation: 0it [00:00, ?it/s]"
            ]
          },
          "metadata": {},
          "output_type": "display_data"
        },
        {
          "data": {
            "application/vnd.jupyter.widget-view+json": {
              "model_id": "50c176d11af64b659bea015a47a28044",
              "version_major": 2,
              "version_minor": 0
            },
            "text/plain": [
              "Validation: 0it [00:00, ?it/s]"
            ]
          },
          "metadata": {},
          "output_type": "display_data"
        },
        {
          "data": {
            "application/vnd.jupyter.widget-view+json": {
              "model_id": "e714fdbfffa84acc8f8f475431a8c4f5",
              "version_major": 2,
              "version_minor": 0
            },
            "text/plain": [
              "Validation: 0it [00:00, ?it/s]"
            ]
          },
          "metadata": {},
          "output_type": "display_data"
        },
        {
          "data": {
            "application/vnd.jupyter.widget-view+json": {
              "model_id": "2f1df05ef797401eabd124704093eb90",
              "version_major": 2,
              "version_minor": 0
            },
            "text/plain": [
              "Validation: 0it [00:00, ?it/s]"
            ]
          },
          "metadata": {},
          "output_type": "display_data"
        },
        {
          "data": {
            "application/vnd.jupyter.widget-view+json": {
              "model_id": "b75061249d7d4362b007db5109d055ad",
              "version_major": 2,
              "version_minor": 0
            },
            "text/plain": [
              "Validation: 0it [00:00, ?it/s]"
            ]
          },
          "metadata": {},
          "output_type": "display_data"
        },
        {
          "data": {
            "application/vnd.jupyter.widget-view+json": {
              "model_id": "e5d939a482ec44acb717ecabe8352009",
              "version_major": 2,
              "version_minor": 0
            },
            "text/plain": [
              "Validation: 0it [00:00, ?it/s]"
            ]
          },
          "metadata": {},
          "output_type": "display_data"
        },
        {
          "data": {
            "application/vnd.jupyter.widget-view+json": {
              "model_id": "88c2cbf316ff453b8fc2954d0dbadf38",
              "version_major": 2,
              "version_minor": 0
            },
            "text/plain": [
              "Validation: 0it [00:00, ?it/s]"
            ]
          },
          "metadata": {},
          "output_type": "display_data"
        },
        {
          "name": "stderr",
          "output_type": "stream",
          "text": [
            "`Trainer.fit` stopped: `max_epochs=50` reached.\n"
          ]
        }
      ],
      "source": [
        "trainer.fit(model, data_module)"
      ]
    },
    {
      "cell_type": "code",
      "execution_count": null,
      "metadata": {},
      "outputs": [],
      "source": [
        "with open('checkpoints/multi_decoder/round_2/' + '\\\\vocab.pkl', 'wb') as f:\n",
        "    pickle.dump(v1, f)"
      ]
    },
    {
      "cell_type": "code",
      "execution_count": null,
      "metadata": {
        "id": "S9Zw3UGJoPGy"
      },
      "outputs": [
        {
          "data": {
            "text/html": [
              "Waiting for W&B process to finish... <strong style=\"color:green\">(success).</strong>"
            ],
            "text/plain": [
              "<IPython.core.display.HTML object>"
            ]
          },
          "metadata": {},
          "output_type": "display_data"
        },
        {
          "data": {
            "application/vnd.jupyter.widget-view+json": {
              "model_id": "8b35e616b44f49989e4636f6c35de8a9",
              "version_major": 2,
              "version_minor": 0
            },
            "text/plain": [
              "VBox(children=(Label(value='0.001 MB of 0.001 MB uploaded (0.000 MB deduped)\\r'), FloatProgress(value=1.0, max…"
            ]
          },
          "metadata": {},
          "output_type": "display_data"
        },
        {
          "data": {
            "text/html": [
              "<style>\n",
              "    table.wandb td:nth-child(1) { padding: 0 10px; text-align: left ; width: auto;} td:nth-child(2) {text-align: left ; width: 100%}\n",
              "    .wandb-row { display: flex; flex-direction: row; flex-wrap: wrap; justify-content: flex-start; width: 100% }\n",
              "    .wandb-col { display: flex; flex-direction: column; flex-basis: 100%; flex: 1; padding: 10px; }\n",
              "    </style>\n",
              "<div class=\"wandb-row\"><div class=\"wandb-col\"><h3>Run history:</h3><br/><table class=\"wandb\"><tr><td>epoch</td><td>▁▁▂▂▂▂▃▃▃▄▄▄▄▅▅▅▅▆▆▇▇▇▇███</td></tr><tr><td>trainer/global_step</td><td>▁▁▂▂▂▂▃▃▃▄▄▄▄▅▅▅▅▆▆▆▇▇▇███</td></tr><tr><td>training_adversarial_loss_1</td><td>█▂▁▁▇▂</td></tr><tr><td>training_adversarial_loss_2</td><td>█▂▁▂▂▃</td></tr><tr><td>training_gen_loss</td><td>█▇▆▅▃▁</td></tr><tr><td>training_loss</td><td>█▇▆▅▃▁</td></tr><tr><td>val_adversarial_loss</td><td>█▆▅▃▂▂▁▁▁▁▁▁▁▁▂▂▂▂▂▂</td></tr><tr><td>val_gen_loss</td><td>███▇▇▇▇▆▆▆▆▅▅▄▄▄▃▂▂▁</td></tr><tr><td>val_loss</td><td>███▇▇▇▇▆▆▆▆▅▅▄▄▄▃▂▂▁</td></tr></table><br/></div><div class=\"wandb-col\"><h3>Run summary:</h3><br/><table class=\"wandb\"><tr><td>epoch</td><td>19</td></tr><tr><td>trainer/global_step</td><td>319</td></tr><tr><td>training_adversarial_loss_1</td><td>0.69316</td></tr><tr><td>training_adversarial_loss_2</td><td>-0.99998</td></tr><tr><td>training_gen_loss</td><td>17.47872</td></tr><tr><td>training_loss</td><td>17.1719</td></tr><tr><td>val_adversarial_loss</td><td>-0.15342</td></tr><tr><td>val_gen_loss</td><td>17.39444</td></tr><tr><td>val_loss</td><td>17.0876</td></tr></table><br/></div></div>"
            ],
            "text/plain": [
              "<IPython.core.display.HTML object>"
            ]
          },
          "metadata": {},
          "output_type": "display_data"
        },
        {
          "data": {
            "text/html": [
              " View run <strong style=\"color:#cdcd00\">dashing-cloud-26</strong> at: <a href='https://wandb.ai/sahatsarin07/final_project/runs/iueu5lnb' target=\"_blank\">https://wandb.ai/sahatsarin07/final_project/runs/iueu5lnb</a><br/>Synced 6 W&B file(s), 0 media file(s), 0 artifact file(s) and 0 other file(s)"
            ],
            "text/plain": [
              "<IPython.core.display.HTML object>"
            ]
          },
          "metadata": {},
          "output_type": "display_data"
        },
        {
          "data": {
            "text/html": [
              "Find logs at: <code>.\\wandb\\run-20230501_020841-iueu5lnb\\logs</code>"
            ],
            "text/plain": [
              "<IPython.core.display.HTML object>"
            ]
          },
          "metadata": {},
          "output_type": "display_data"
        }
      ],
      "source": [
        "wandb.finish()"
      ]
    },
    {
      "cell_type": "markdown",
      "metadata": {
        "id": "KL8qS-1XKczs"
      },
      "source": [
        "# Test Model"
      ]
    },
    {
      "cell_type": "code",
      "execution_count": 51,
      "metadata": {},
      "outputs": [],
      "source": [
        "vocab_path = 'checkpoints/multi_decoder/round_2/vocab.pkl'\n",
        "target_vocab = pickle.load(open(vocab_path, \"rb\"))"
      ]
    },
    {
      "cell_type": "code",
      "execution_count": 52,
      "metadata": {},
      "outputs": [
        {
          "data": {
            "text/plain": [
              "7909"
            ]
          },
          "execution_count": 52,
          "metadata": {},
          "output_type": "execute_result"
        }
      ],
      "source": [
        "vocab_size = len(target_vocab)\n",
        "vocab_size"
      ]
    },
    {
      "cell_type": "code",
      "execution_count": 53,
      "metadata": {
        "id": "g87gAuqXKcAG"
      },
      "outputs": [],
      "source": [
        "EXAMPLES = ['แอคกูปะ','ตังออกวันไหน','ทำไมอินนิสฟรีที่สั่งในจมก.ยังไม่เริ่มจัดส่งอีกกกกก นานแล้วนะว้อยยย','นี่ถ้าเป็นนู๋เตรียมบัตรแล้วน่ะเนี้ย','ได้น้องแล้วค่ะ ตัวแน่นมากกกกก😣💓💓']"
      ]
    },
    {
      "cell_type": "code",
      "execution_count": 54,
      "metadata": {
        "id": "IXmLJD2xKhzV"
      },
      "outputs": [
        {
          "name": "stdout",
          "output_type": "stream",
          "text": [
            "5\n"
          ]
        }
      ],
      "source": [
        "predict_data = []\n",
        "for line in EXAMPLES:\n",
        "    line = [l for l in line] #change from string to list\n",
        "    predict_data.append(torch.tensor(target_vocab(line)))\n",
        "\n",
        "print(len(predict_data))\n",
        "\n",
        "\n",
        "predict_data = nn.utils.rnn.pad_sequence(predict_data, batch_first = True)\n",
        "predict_dataset = PolitenessDataset(predict_data, torch.zeros(len(predict_data)))\n",
        "predict_loader = DataLoader(predict_dataset,\n",
        "                            batch_size = 1,\n",
        "                            shuffle = False,\n",
        "                            num_workers = 0)"
      ]
    },
    {
      "cell_type": "code",
      "execution_count": 55,
      "metadata": {},
      "outputs": [
        {
          "name": "stdout",
          "output_type": "stream",
          "text": [
            "dict_keys(['epoch', 'global_step', 'pytorch-lightning_version', 'state_dict', 'loops', 'callbacks', 'optimizer_states', 'lr_schedulers'])\n"
          ]
        }
      ],
      "source": [
        "checkpoint = torch.load('checkpoints\\multi_decoder\\\\round_2\\mymodel-epochepoch=19.ckpt')\n",
        "print(checkpoint.keys())"
      ]
    },
    {
      "cell_type": "code",
      "execution_count": 56,
      "metadata": {
        "id": "IDxWZGF0MQ1q"
      },
      "outputs": [
        {
          "data": {
            "text/plain": [
              "MultiDecoderModel(\n",
              "  (encoder): Encoder(\n",
              "    (embedding): Embedding(7909, 400)\n",
              "    (lstm): LSTM(400, 64, batch_first=True)\n",
              "  )\n",
              "  (decoders): ModuleList(\n",
              "    (0): Decoder(\n",
              "      (lstm_cell): LSTMCell(64, 64)\n",
              "      (fc): Linear(in_features=64, out_features=7909, bias=True)\n",
              "      (dropout): Dropout(p=0.3, inplace=False)\n",
              "    )\n",
              "    (1): Decoder(\n",
              "      (lstm_cell): LSTMCell(64, 64)\n",
              "      (fc): Linear(in_features=64, out_features=7909, bias=True)\n",
              "      (dropout): Dropout(p=0.3, inplace=False)\n",
              "    )\n",
              "  )\n",
              "  (classifier): Sequential(\n",
              "    (0): Linear(in_features=64, out_features=32, bias=True)\n",
              "    (1): Linear(in_features=32, out_features=1, bias=True)\n",
              "    (2): Sigmoid()\n",
              "  )\n",
              "  (decoder_criterion): CrossEntropyLoss()\n",
              "  (cls_criterion): BCELoss()\n",
              ")"
            ]
          },
          "execution_count": 56,
          "metadata": {},
          "output_type": "execute_result"
        }
      ],
      "source": [
        "lr = 5e-3\n",
        "criterion1 = nn.CrossEntropyLoss()\n",
        "criterion2 = nn.BCELoss()\n",
        "\n",
        "test_model = MultiDecoderModel(weights_matrix, criterion1, criterion2, lr)\n",
        "test_model.load_state_dict(checkpoint['state_dict'])\n",
        "test_model.eval()"
      ]
    },
    {
      "cell_type": "code",
      "execution_count": 57,
      "metadata": {},
      "outputs": [
        {
          "name": "stderr",
          "output_type": "stream",
          "text": [
            "GPU available: True (cuda), used: True\n",
            "TPU available: False, using: 0 TPU cores\n",
            "IPU available: False, using: 0 IPUs\n",
            "HPU available: False, using: 0 HPUs\n"
          ]
        }
      ],
      "source": [
        "trainer = Trainer(\n",
        "    devices=1,\n",
        ")"
      ]
    },
    {
      "cell_type": "code",
      "execution_count": 58,
      "metadata": {
        "id": "tcWArsikMUWn"
      },
      "outputs": [
        {
          "name": "stderr",
          "output_type": "stream",
          "text": [
            "You are using a CUDA device ('NVIDIA GeForce RTX 3060 Laptop GPU') that has Tensor Cores. To properly utilize them, you should set `torch.set_float32_matmul_precision('medium' | 'high')` which will trade-off precision for performance. For more details, read https://pytorch.org/docs/stable/generated/torch.set_float32_matmul_precision.html#torch.set_float32_matmul_precision\n",
            "LOCAL_RANK: 0 - CUDA_VISIBLE_DEVICES: [0]\n",
            "e:\\Programs\\miniconda3\\envs\\torch\\lib\\site-packages\\pytorch_lightning\\trainer\\connectors\\data_connector.py:430: PossibleUserWarning: The dataloader, predict_dataloader, does not have many workers which may be a bottleneck. Consider increasing the value of the `num_workers` argument` (try 12 which is the number of cpus on this machine) in the `DataLoader` init to improve performance.\n",
            "  rank_zero_warn(\n"
          ]
        },
        {
          "data": {
            "application/vnd.jupyter.widget-view+json": {
              "model_id": "7b698454c6454cd7a5238c4cac4e01a3",
              "version_major": 2,
              "version_minor": 0
            },
            "text/plain": [
              "Predicting: 0it [00:00, ?it/s]"
            ]
          },
          "metadata": {},
          "output_type": "display_data"
        },
        {
          "name": "stdout",
          "output_type": "stream",
          "text": [
            "ชุมชนMazda</s></s></s></s></s></s></s></s></s></s></s></s></s></s></s></s></s></s></s></s></s></s></s></s></s></s></s></s></s></s></s></s></s></s></s></s></s></s></s></s></s></s></s></s></s></s></s>\n",
            "การรัดย่างเฟร</s></s></s></s></s></s></s></s></s></s></s></s></s></s></s></s></s></s></s></s></s></s></s></s></s></s></s></s></s></s></s></s></s></s></s></s></s></s></s></s></s></s></s></s></s></s>\n",
            "villeี้เจ้NCAPNCAPฮะฮะฮะฮะฮะฮะฮะฮะฮะฮะฮะฮะฮะฮะฮะฮะฮะฮะฮะฮะฮะฮะฮะฮะฮะฮะฮะฮะฮะฮะฮะฮะฮะฮะฮะฮะฮะฮะฮะฮะฮะฮะฮะฮะ\n",
            "KULOVKULOVแฮปปี้แฮปปี้</s></s></s></s></s></s></s></s></s></s></s></s></s></s></s></s></s></s></s></s></s></s></s></s></s></s></s></s></s></s></s></s></s></s></s></s></s></s></s></s></s></s></s></s></s>\n",
            "นึงงิ้วงิ้ว</s></s></s></s></s></s></s></s></s></s></s></s></s></s></s></s></s></s></s></s></s></s></s></s></s></s></s></s></s></s></s></s></s></s></s></s></s></s></s></s></s></s></s></s></s></s>\n"
          ]
        }
      ],
      "source": [
        "output = trainer.predict(test_model, predict_loader)"
      ]
    },
    {
      "cell_type": "code",
      "execution_count": 59,
      "metadata": {},
      "outputs": [
        {
          "name": "stdout",
          "output_type": "stream",
          "text": [
            "แอคกูปะ : ชุมชนMazda\n",
            "ตังออกวันไหน : การรัดย่างเฟร\n",
            "ทำไมอินนิสฟรีที่สั่งในจมก.ยังไม่เริ่มจัดส่งอีกกกกก นานแล้วนะว้อยยย : villeี้เจ้NCAPNCAPฮะฮะฮะฮะฮะฮะฮะฮะฮะฮะฮะฮะฮะฮะฮะฮะฮะฮะฮะฮะฮะฮะฮะฮะฮะฮะฮะฮะฮะฮะฮะฮะฮะฮะฮะฮะฮะฮะฮะฮะฮะฮะฮะฮะ\n",
            "นี่ถ้าเป็นนู๋เตรียมบัตรแล้วน่ะเนี้ย : KULOVKULOVแฮปปี้แฮปปี้\n",
            "ได้น้องแล้วค่ะ ตัวแน่นมากกกกก😣💓💓 : นึงงิ้วงิ้ว\n"
          ]
        }
      ],
      "source": [
        "for i in range(len(EXAMPLES)):\n",
        "    original = EXAMPLES[i]\n",
        "    pred = output[i][output[i] > 0]\n",
        "    output_sent = \"\".join(target_vocab.lookup_tokens(pred.cpu().numpy()))\n",
        "    print(original, \":\", output_sent)"
      ]
    },
    {
      "cell_type": "code",
      "execution_count": 60,
      "metadata": {},
      "outputs": [
        {
          "name": "stdout",
          "output_type": "stream",
          "text": [
            "1585\n"
          ]
        }
      ],
      "source": [
        "test = pd.read_csv(data_path + 'test.csv')\n",
        "\n",
        "impolite_test = test[test.label == 0].text.tolist()\n",
        "\n",
        "test_data = []\n",
        "for line in impolite_test:\n",
        "    line = [l for l in line] #change from string to list\n",
        "    test_data.append(torch.tensor(target_vocab(line)))\n",
        "\n",
        "print(len(test_data))\n",
        "\n",
        "\n",
        "test_data = nn.utils.rnn.pad_sequence(test_data, batch_first = True)\n",
        "test_dataset = PolitenessDataset(test_data, torch.zeros(len(test_data)))\n",
        "test_loader = DataLoader(test_dataset,\n",
        "                            batch_size = 1,\n",
        "                            shuffle = False,\n",
        "                            num_workers = 0)"
      ]
    },
    {
      "cell_type": "code",
      "execution_count": null,
      "metadata": {},
      "outputs": [],
      "source": [
        "output = trainer.predict(test_model, test_loader)"
      ]
    },
    {
      "cell_type": "code",
      "execution_count": 62,
      "metadata": {},
      "outputs": [
        {
          "data": {
            "text/plain": [
              "1585"
            ]
          },
          "execution_count": 62,
          "metadata": {},
          "output_type": "execute_result"
        }
      ],
      "source": [
        "len(output)"
      ]
    },
    {
      "cell_type": "code",
      "execution_count": 63,
      "metadata": {},
      "outputs": [],
      "source": [
        "predict_sents = []\n",
        "for i in range(len(output)):\n",
        "    pred = output[i][output[i] > 0]\n",
        "    pred_sent = \"\".join(target_vocab.lookup_tokens(pred.cpu().numpy()))\n",
        "    predict_sents.append(pred_sent)"
      ]
    },
    {
      "cell_type": "code",
      "execution_count": 64,
      "metadata": {},
      "outputs": [],
      "source": [
        "sentence_pair = pd.DataFrame(\n",
        "    {'impolite': impolite_test,\n",
        "     'polite': predict_sents}\n",
        ")"
      ]
    },
    {
      "cell_type": "code",
      "execution_count": 65,
      "metadata": {},
      "outputs": [],
      "source": [
        "sentence_pair.to_csv(\"result.csv\", index=False)"
      ]
    }
  ],
  "metadata": {
    "accelerator": "GPU",
    "colab": {
      "provenance": []
    },
    "gpuClass": "standard",
    "kernelspec": {
      "display_name": "torch",
      "language": "python",
      "name": "python3"
    },
    "language_info": {
      "codemirror_mode": {
        "name": "ipython",
        "version": 3
      },
      "file_extension": ".py",
      "mimetype": "text/x-python",
      "name": "python",
      "nbconvert_exporter": "python",
      "pygments_lexer": "ipython3",
      "version": "3.10.11"
    },
    "orig_nbformat": 4,
    "widgets": {
      "application/vnd.jupyter.widget-state+json": {
        "142dd53a5cab403f8525f14bf9369fba": {
          "model_module": "@jupyter-widgets/controls",
          "model_module_version": "1.5.0",
          "model_name": "ProgressStyleModel",
          "state": {
            "_model_module": "@jupyter-widgets/controls",
            "_model_module_version": "1.5.0",
            "_model_name": "ProgressStyleModel",
            "_view_count": null,
            "_view_module": "@jupyter-widgets/base",
            "_view_module_version": "1.2.0",
            "_view_name": "StyleView",
            "bar_color": null,
            "description_width": ""
          }
        },
        "180ddfc76e104625b17af78d35d84e33": {
          "model_module": "@jupyter-widgets/base",
          "model_module_version": "1.2.0",
          "model_name": "LayoutModel",
          "state": {
            "_model_module": "@jupyter-widgets/base",
            "_model_module_version": "1.2.0",
            "_model_name": "LayoutModel",
            "_view_count": null,
            "_view_module": "@jupyter-widgets/base",
            "_view_module_version": "1.2.0",
            "_view_name": "LayoutView",
            "align_content": null,
            "align_items": null,
            "align_self": null,
            "border": null,
            "bottom": null,
            "display": null,
            "flex": "2",
            "flex_flow": null,
            "grid_area": null,
            "grid_auto_columns": null,
            "grid_auto_flow": null,
            "grid_auto_rows": null,
            "grid_column": null,
            "grid_gap": null,
            "grid_row": null,
            "grid_template_areas": null,
            "grid_template_columns": null,
            "grid_template_rows": null,
            "height": null,
            "justify_content": null,
            "justify_items": null,
            "left": null,
            "margin": null,
            "max_height": null,
            "max_width": null,
            "min_height": null,
            "min_width": null,
            "object_fit": null,
            "object_position": null,
            "order": null,
            "overflow": null,
            "overflow_x": null,
            "overflow_y": null,
            "padding": null,
            "right": null,
            "top": null,
            "visibility": null,
            "width": null
          }
        },
        "1b2b8900c0db4fbaa7c08ba3b9f57106": {
          "model_module": "@jupyter-widgets/controls",
          "model_module_version": "1.5.0",
          "model_name": "FloatProgressModel",
          "state": {
            "_dom_classes": [],
            "_model_module": "@jupyter-widgets/controls",
            "_model_module_version": "1.5.0",
            "_model_name": "FloatProgressModel",
            "_view_count": null,
            "_view_module": "@jupyter-widgets/controls",
            "_view_module_version": "1.5.0",
            "_view_name": "ProgressView",
            "bar_style": "",
            "description": "",
            "description_tooltip": null,
            "layout": "IPY_MODEL_180ddfc76e104625b17af78d35d84e33",
            "max": 75,
            "min": 0,
            "orientation": "horizontal",
            "style": "IPY_MODEL_142dd53a5cab403f8525f14bf9369fba",
            "value": 40
          }
        },
        "1ec67328ce734b4cb08d98c5ff728a3e": {
          "model_module": "@jupyter-widgets/controls",
          "model_module_version": "1.5.0",
          "model_name": "HBoxModel",
          "state": {
            "_dom_classes": [],
            "_model_module": "@jupyter-widgets/controls",
            "_model_module_version": "1.5.0",
            "_model_name": "HBoxModel",
            "_view_count": null,
            "_view_module": "@jupyter-widgets/controls",
            "_view_module_version": "1.5.0",
            "_view_name": "HBoxView",
            "box_style": "",
            "children": [
              "IPY_MODEL_e7baa206529741be9506611e61c3134a",
              "IPY_MODEL_9e394140bf7b43fdadd2f6135759af0d",
              "IPY_MODEL_44a209753da64f50b8456c5414a56c82"
            ],
            "layout": "IPY_MODEL_3960c01c07d648c5be9e1a7d0499d685"
          }
        },
        "2619d4c6e2124d1580b2044037ea3790": {
          "model_module": "@jupyter-widgets/controls",
          "model_module_version": "1.5.0",
          "model_name": "DescriptionStyleModel",
          "state": {
            "_model_module": "@jupyter-widgets/controls",
            "_model_module_version": "1.5.0",
            "_model_name": "DescriptionStyleModel",
            "_view_count": null,
            "_view_module": "@jupyter-widgets/base",
            "_view_module_version": "1.2.0",
            "_view_name": "StyleView",
            "description_width": ""
          }
        },
        "36733d5f22c74f79af3700aa2da9bcb0": {
          "model_module": "@jupyter-widgets/base",
          "model_module_version": "1.2.0",
          "model_name": "LayoutModel",
          "state": {
            "_model_module": "@jupyter-widgets/base",
            "_model_module_version": "1.2.0",
            "_model_name": "LayoutModel",
            "_view_count": null,
            "_view_module": "@jupyter-widgets/base",
            "_view_module_version": "1.2.0",
            "_view_name": "LayoutView",
            "align_content": null,
            "align_items": null,
            "align_self": null,
            "border": null,
            "bottom": null,
            "display": null,
            "flex": null,
            "flex_flow": null,
            "grid_area": null,
            "grid_auto_columns": null,
            "grid_auto_flow": null,
            "grid_auto_rows": null,
            "grid_column": null,
            "grid_gap": null,
            "grid_row": null,
            "grid_template_areas": null,
            "grid_template_columns": null,
            "grid_template_rows": null,
            "height": null,
            "justify_content": null,
            "justify_items": null,
            "left": null,
            "margin": null,
            "max_height": null,
            "max_width": null,
            "min_height": null,
            "min_width": null,
            "object_fit": null,
            "object_position": null,
            "order": null,
            "overflow": null,
            "overflow_x": null,
            "overflow_y": null,
            "padding": null,
            "right": null,
            "top": null,
            "visibility": null,
            "width": null
          }
        },
        "3960c01c07d648c5be9e1a7d0499d685": {
          "model_module": "@jupyter-widgets/base",
          "model_module_version": "1.2.0",
          "model_name": "LayoutModel",
          "state": {
            "_model_module": "@jupyter-widgets/base",
            "_model_module_version": "1.2.0",
            "_model_name": "LayoutModel",
            "_view_count": null,
            "_view_module": "@jupyter-widgets/base",
            "_view_module_version": "1.2.0",
            "_view_name": "LayoutView",
            "align_content": null,
            "align_items": null,
            "align_self": null,
            "border": null,
            "bottom": null,
            "display": "inline-flex",
            "flex": null,
            "flex_flow": "row wrap",
            "grid_area": null,
            "grid_auto_columns": null,
            "grid_auto_flow": null,
            "grid_auto_rows": null,
            "grid_column": null,
            "grid_gap": null,
            "grid_row": null,
            "grid_template_areas": null,
            "grid_template_columns": null,
            "grid_template_rows": null,
            "height": null,
            "justify_content": null,
            "justify_items": null,
            "left": null,
            "margin": null,
            "max_height": null,
            "max_width": null,
            "min_height": null,
            "min_width": null,
            "object_fit": null,
            "object_position": null,
            "order": null,
            "overflow": null,
            "overflow_x": null,
            "overflow_y": null,
            "padding": null,
            "right": null,
            "top": null,
            "visibility": "hidden",
            "width": "100%"
          }
        },
        "3b53be61fecf450b9c2e24279cd374fa": {
          "model_module": "@jupyter-widgets/controls",
          "model_module_version": "1.5.0",
          "model_name": "HTMLModel",
          "state": {
            "_dom_classes": [],
            "_model_module": "@jupyter-widgets/controls",
            "_model_module_version": "1.5.0",
            "_model_name": "HTMLModel",
            "_view_count": null,
            "_view_module": "@jupyter-widgets/controls",
            "_view_module_version": "1.5.0",
            "_view_name": "HTMLView",
            "description": "",
            "description_tooltip": null,
            "layout": "IPY_MODEL_503a1754335041b0990362a8ea157211",
            "placeholder": "​",
            "style": "IPY_MODEL_507c8dc5d13e44a9a85269b7cee93f0b",
            "value": "Epoch 0:  53%"
          }
        },
        "44a209753da64f50b8456c5414a56c82": {
          "model_module": "@jupyter-widgets/controls",
          "model_module_version": "1.5.0",
          "model_name": "HTMLModel",
          "state": {
            "_dom_classes": [],
            "_model_module": "@jupyter-widgets/controls",
            "_model_module_version": "1.5.0",
            "_model_name": "HTMLModel",
            "_view_count": null,
            "_view_module": "@jupyter-widgets/controls",
            "_view_module_version": "1.5.0",
            "_view_name": "HTMLView",
            "description": "",
            "description_tooltip": null,
            "layout": "IPY_MODEL_c317c49b0d0245729dbe393987a85c5a",
            "placeholder": "​",
            "style": "IPY_MODEL_daa1f9b03ec343bca258cf8b4b24ceaa",
            "value": " 2/2 [00:04&lt;00:00,  2.28s/it]"
          }
        },
        "503a1754335041b0990362a8ea157211": {
          "model_module": "@jupyter-widgets/base",
          "model_module_version": "1.2.0",
          "model_name": "LayoutModel",
          "state": {
            "_model_module": "@jupyter-widgets/base",
            "_model_module_version": "1.2.0",
            "_model_name": "LayoutModel",
            "_view_count": null,
            "_view_module": "@jupyter-widgets/base",
            "_view_module_version": "1.2.0",
            "_view_name": "LayoutView",
            "align_content": null,
            "align_items": null,
            "align_self": null,
            "border": null,
            "bottom": null,
            "display": null,
            "flex": null,
            "flex_flow": null,
            "grid_area": null,
            "grid_auto_columns": null,
            "grid_auto_flow": null,
            "grid_auto_rows": null,
            "grid_column": null,
            "grid_gap": null,
            "grid_row": null,
            "grid_template_areas": null,
            "grid_template_columns": null,
            "grid_template_rows": null,
            "height": null,
            "justify_content": null,
            "justify_items": null,
            "left": null,
            "margin": null,
            "max_height": null,
            "max_width": null,
            "min_height": null,
            "min_width": null,
            "object_fit": null,
            "object_position": null,
            "order": null,
            "overflow": null,
            "overflow_x": null,
            "overflow_y": null,
            "padding": null,
            "right": null,
            "top": null,
            "visibility": null,
            "width": null
          }
        },
        "507c8dc5d13e44a9a85269b7cee93f0b": {
          "model_module": "@jupyter-widgets/controls",
          "model_module_version": "1.5.0",
          "model_name": "DescriptionStyleModel",
          "state": {
            "_model_module": "@jupyter-widgets/controls",
            "_model_module_version": "1.5.0",
            "_model_name": "DescriptionStyleModel",
            "_view_count": null,
            "_view_module": "@jupyter-widgets/base",
            "_view_module_version": "1.2.0",
            "_view_name": "StyleView",
            "description_width": ""
          }
        },
        "5e0f8bed90044510b4d70558c70f1db0": {
          "model_module": "@jupyter-widgets/controls",
          "model_module_version": "1.5.0",
          "model_name": "ProgressStyleModel",
          "state": {
            "_model_module": "@jupyter-widgets/controls",
            "_model_module_version": "1.5.0",
            "_model_name": "ProgressStyleModel",
            "_view_count": null,
            "_view_module": "@jupyter-widgets/base",
            "_view_module_version": "1.2.0",
            "_view_name": "StyleView",
            "bar_color": null,
            "description_width": ""
          }
        },
        "7efd8c16a437466392d5c80898dc453d": {
          "model_module": "@jupyter-widgets/controls",
          "model_module_version": "1.5.0",
          "model_name": "HBoxModel",
          "state": {
            "_dom_classes": [],
            "_model_module": "@jupyter-widgets/controls",
            "_model_module_version": "1.5.0",
            "_model_name": "HBoxModel",
            "_view_count": null,
            "_view_module": "@jupyter-widgets/controls",
            "_view_module_version": "1.5.0",
            "_view_name": "HBoxView",
            "box_style": "",
            "children": [
              "IPY_MODEL_3b53be61fecf450b9c2e24279cd374fa",
              "IPY_MODEL_1b2b8900c0db4fbaa7c08ba3b9f57106",
              "IPY_MODEL_8877bef6d9254e77ba10fd12abfa9db3"
            ],
            "layout": "IPY_MODEL_b17ca1d7f09d4b098f4fb4799e6c25ef"
          }
        },
        "8877bef6d9254e77ba10fd12abfa9db3": {
          "model_module": "@jupyter-widgets/controls",
          "model_module_version": "1.5.0",
          "model_name": "HTMLModel",
          "state": {
            "_dom_classes": [],
            "_model_module": "@jupyter-widgets/controls",
            "_model_module_version": "1.5.0",
            "_model_name": "HTMLModel",
            "_view_count": null,
            "_view_module": "@jupyter-widgets/controls",
            "_view_module_version": "1.5.0",
            "_view_name": "HTMLView",
            "description": "",
            "description_tooltip": null,
            "layout": "IPY_MODEL_36733d5f22c74f79af3700aa2da9bcb0",
            "placeholder": "​",
            "style": "IPY_MODEL_ffd6d6b4f2994f26b483abeb742c87ff",
            "value": " 40/75 [06:27&lt;05:39,  9.70s/it, v_num=bigq]"
          }
        },
        "9e394140bf7b43fdadd2f6135759af0d": {
          "model_module": "@jupyter-widgets/controls",
          "model_module_version": "1.5.0",
          "model_name": "FloatProgressModel",
          "state": {
            "_dom_classes": [],
            "_model_module": "@jupyter-widgets/controls",
            "_model_module_version": "1.5.0",
            "_model_name": "FloatProgressModel",
            "_view_count": null,
            "_view_module": "@jupyter-widgets/controls",
            "_view_module_version": "1.5.0",
            "_view_name": "ProgressView",
            "bar_style": "",
            "description": "",
            "description_tooltip": null,
            "layout": "IPY_MODEL_aca7480a43ac4c5bb18a5c769beaa618",
            "max": 2,
            "min": 0,
            "orientation": "horizontal",
            "style": "IPY_MODEL_5e0f8bed90044510b4d70558c70f1db0",
            "value": 2
          }
        },
        "aca7480a43ac4c5bb18a5c769beaa618": {
          "model_module": "@jupyter-widgets/base",
          "model_module_version": "1.2.0",
          "model_name": "LayoutModel",
          "state": {
            "_model_module": "@jupyter-widgets/base",
            "_model_module_version": "1.2.0",
            "_model_name": "LayoutModel",
            "_view_count": null,
            "_view_module": "@jupyter-widgets/base",
            "_view_module_version": "1.2.0",
            "_view_name": "LayoutView",
            "align_content": null,
            "align_items": null,
            "align_self": null,
            "border": null,
            "bottom": null,
            "display": null,
            "flex": "2",
            "flex_flow": null,
            "grid_area": null,
            "grid_auto_columns": null,
            "grid_auto_flow": null,
            "grid_auto_rows": null,
            "grid_column": null,
            "grid_gap": null,
            "grid_row": null,
            "grid_template_areas": null,
            "grid_template_columns": null,
            "grid_template_rows": null,
            "height": null,
            "justify_content": null,
            "justify_items": null,
            "left": null,
            "margin": null,
            "max_height": null,
            "max_width": null,
            "min_height": null,
            "min_width": null,
            "object_fit": null,
            "object_position": null,
            "order": null,
            "overflow": null,
            "overflow_x": null,
            "overflow_y": null,
            "padding": null,
            "right": null,
            "top": null,
            "visibility": null,
            "width": null
          }
        },
        "b17ca1d7f09d4b098f4fb4799e6c25ef": {
          "model_module": "@jupyter-widgets/base",
          "model_module_version": "1.2.0",
          "model_name": "LayoutModel",
          "state": {
            "_model_module": "@jupyter-widgets/base",
            "_model_module_version": "1.2.0",
            "_model_name": "LayoutModel",
            "_view_count": null,
            "_view_module": "@jupyter-widgets/base",
            "_view_module_version": "1.2.0",
            "_view_name": "LayoutView",
            "align_content": null,
            "align_items": null,
            "align_self": null,
            "border": null,
            "bottom": null,
            "display": "inline-flex",
            "flex": null,
            "flex_flow": "row wrap",
            "grid_area": null,
            "grid_auto_columns": null,
            "grid_auto_flow": null,
            "grid_auto_rows": null,
            "grid_column": null,
            "grid_gap": null,
            "grid_row": null,
            "grid_template_areas": null,
            "grid_template_columns": null,
            "grid_template_rows": null,
            "height": null,
            "justify_content": null,
            "justify_items": null,
            "left": null,
            "margin": null,
            "max_height": null,
            "max_width": null,
            "min_height": null,
            "min_width": null,
            "object_fit": null,
            "object_position": null,
            "order": null,
            "overflow": null,
            "overflow_x": null,
            "overflow_y": null,
            "padding": null,
            "right": null,
            "top": null,
            "visibility": null,
            "width": "100%"
          }
        },
        "c317c49b0d0245729dbe393987a85c5a": {
          "model_module": "@jupyter-widgets/base",
          "model_module_version": "1.2.0",
          "model_name": "LayoutModel",
          "state": {
            "_model_module": "@jupyter-widgets/base",
            "_model_module_version": "1.2.0",
            "_model_name": "LayoutModel",
            "_view_count": null,
            "_view_module": "@jupyter-widgets/base",
            "_view_module_version": "1.2.0",
            "_view_name": "LayoutView",
            "align_content": null,
            "align_items": null,
            "align_self": null,
            "border": null,
            "bottom": null,
            "display": null,
            "flex": null,
            "flex_flow": null,
            "grid_area": null,
            "grid_auto_columns": null,
            "grid_auto_flow": null,
            "grid_auto_rows": null,
            "grid_column": null,
            "grid_gap": null,
            "grid_row": null,
            "grid_template_areas": null,
            "grid_template_columns": null,
            "grid_template_rows": null,
            "height": null,
            "justify_content": null,
            "justify_items": null,
            "left": null,
            "margin": null,
            "max_height": null,
            "max_width": null,
            "min_height": null,
            "min_width": null,
            "object_fit": null,
            "object_position": null,
            "order": null,
            "overflow": null,
            "overflow_x": null,
            "overflow_y": null,
            "padding": null,
            "right": null,
            "top": null,
            "visibility": null,
            "width": null
          }
        },
        "daa1f9b03ec343bca258cf8b4b24ceaa": {
          "model_module": "@jupyter-widgets/controls",
          "model_module_version": "1.5.0",
          "model_name": "DescriptionStyleModel",
          "state": {
            "_model_module": "@jupyter-widgets/controls",
            "_model_module_version": "1.5.0",
            "_model_name": "DescriptionStyleModel",
            "_view_count": null,
            "_view_module": "@jupyter-widgets/base",
            "_view_module_version": "1.2.0",
            "_view_name": "StyleView",
            "description_width": ""
          }
        },
        "e7baa206529741be9506611e61c3134a": {
          "model_module": "@jupyter-widgets/controls",
          "model_module_version": "1.5.0",
          "model_name": "HTMLModel",
          "state": {
            "_dom_classes": [],
            "_model_module": "@jupyter-widgets/controls",
            "_model_module_version": "1.5.0",
            "_model_name": "HTMLModel",
            "_view_count": null,
            "_view_module": "@jupyter-widgets/controls",
            "_view_module_version": "1.5.0",
            "_view_name": "HTMLView",
            "description": "",
            "description_tooltip": null,
            "layout": "IPY_MODEL_f6691e336b034ca69ab7b5173ad45927",
            "placeholder": "​",
            "style": "IPY_MODEL_2619d4c6e2124d1580b2044037ea3790",
            "value": "Sanity Checking DataLoader 0: 100%"
          }
        },
        "f6691e336b034ca69ab7b5173ad45927": {
          "model_module": "@jupyter-widgets/base",
          "model_module_version": "1.2.0",
          "model_name": "LayoutModel",
          "state": {
            "_model_module": "@jupyter-widgets/base",
            "_model_module_version": "1.2.0",
            "_model_name": "LayoutModel",
            "_view_count": null,
            "_view_module": "@jupyter-widgets/base",
            "_view_module_version": "1.2.0",
            "_view_name": "LayoutView",
            "align_content": null,
            "align_items": null,
            "align_self": null,
            "border": null,
            "bottom": null,
            "display": null,
            "flex": null,
            "flex_flow": null,
            "grid_area": null,
            "grid_auto_columns": null,
            "grid_auto_flow": null,
            "grid_auto_rows": null,
            "grid_column": null,
            "grid_gap": null,
            "grid_row": null,
            "grid_template_areas": null,
            "grid_template_columns": null,
            "grid_template_rows": null,
            "height": null,
            "justify_content": null,
            "justify_items": null,
            "left": null,
            "margin": null,
            "max_height": null,
            "max_width": null,
            "min_height": null,
            "min_width": null,
            "object_fit": null,
            "object_position": null,
            "order": null,
            "overflow": null,
            "overflow_x": null,
            "overflow_y": null,
            "padding": null,
            "right": null,
            "top": null,
            "visibility": null,
            "width": null
          }
        },
        "ffd6d6b4f2994f26b483abeb742c87ff": {
          "model_module": "@jupyter-widgets/controls",
          "model_module_version": "1.5.0",
          "model_name": "DescriptionStyleModel",
          "state": {
            "_model_module": "@jupyter-widgets/controls",
            "_model_module_version": "1.5.0",
            "_model_name": "DescriptionStyleModel",
            "_view_count": null,
            "_view_module": "@jupyter-widgets/base",
            "_view_module_version": "1.2.0",
            "_view_name": "StyleView",
            "description_width": ""
          }
        }
      }
    }
  },
  "nbformat": 4,
  "nbformat_minor": 0
}
