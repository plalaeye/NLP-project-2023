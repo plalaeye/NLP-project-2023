{
 "cells": [
  {
   "cell_type": "code",
   "execution_count": 1,
   "metadata": {},
   "outputs": [],
   "source": [
    "from transformers import (\n",
    "    AutoTokenizer,\n",
    "    AutoModelForCausalLM,\n",
    "    LogitsProcessorList,\n",
    "    MinLengthLogitsProcessor,\n",
    "    TopKLogitsWarper,\n",
    "    TemperatureLogitsWarper,\n",
    "    StoppingCriteriaList,\n",
    "    MaxLengthCriteria,\n",
    ")\n",
    "import torch\n",
    "\n",
    "tokenizer = AutoTokenizer.from_pretrained(\"facebook/xglm-564M\")\n",
    "model = AutoModelForCausalLM.from_pretrained(\"facebook/xglm-564M\")"
   ]
  },
  {
   "cell_type": "code",
   "execution_count": 2,
   "metadata": {},
   "outputs": [],
   "source": [
    "# model.cuda()"
   ]
  },
  {
   "cell_type": "code",
   "execution_count": 2,
   "metadata": {},
   "outputs": [],
   "source": [
    "def get_response(prompt_text, use_gpu=False):\n",
    "    input_prompt = f'คำสุภาพของ \\\"{prompt_text}\\\" คือ'\n",
    "    input_ids = tokenizer(input_prompt, return_tensors=\"pt\").input_ids\n",
    "    if use_gpu:\n",
    "        input_ids = input_ids.cuda()\n",
    "\n",
    "    # instantiate logits processors\n",
    "    logits_processor = LogitsProcessorList(\n",
    "        [\n",
    "            MinLengthLogitsProcessor(15, eos_token_id=model.generation_config.eos_token_id),\n",
    "        ]\n",
    "    )\n",
    "    # instantiate logits processors\n",
    "    logits_warper = LogitsProcessorList(\n",
    "        [\n",
    "            TopKLogitsWarper(50),\n",
    "            TemperatureLogitsWarper(0.7),\n",
    "        ]\n",
    "    )\n",
    "\n",
    "    stopping_criteria = StoppingCriteriaList([MaxLengthCriteria(max_length=len(prompt_text)*2)])\n",
    "\n",
    "    torch.manual_seed(0)\n",
    "    outputs = model.sample(\n",
    "        input_ids,\n",
    "        logits_processor=logits_processor,\n",
    "        logits_warper=logits_warper,\n",
    "        stopping_criteria=stopping_criteria,\n",
    "    )\n",
    "\n",
    "    return (tokenizer.batch_decode(outputs, skip_special_tokens=True))[0]"
   ]
  },
  {
   "cell_type": "code",
   "execution_count": 1,
   "metadata": {},
   "outputs": [],
   "source": [
    "import pandas as pd\n",
    "\n",
    "test_df = pd.read_csv(\"data/non_sample_impolite.csv\")"
   ]
  },
  {
   "cell_type": "code",
   "execution_count": 5,
   "metadata": {},
   "outputs": [
    {
     "name": "stderr",
     "output_type": "stream",
     "text": [
      "396it [23:39,  1.17it/s] "
     ]
    }
   ],
   "source": [
    "from tqdm import tqdm\n",
    "polite = []\n",
    "for _, row in tqdm(test_df.iterrows()):\n",
    "    polite.append(get_response(row[\"text\"]))"
   ]
  },
  {
   "cell_type": "code",
   "execution_count": null,
   "metadata": {},
   "outputs": [],
   "source": [
    "polite_filtered = []\n",
    "for p in polite:\n",
    "    idx = p.find(\"คือ\")\n",
    "    text = p[idx+3:].strip()\n",
    "    polite_filtered.append(text)"
   ]
  },
  {
   "cell_type": "code",
   "execution_count": null,
   "metadata": {},
   "outputs": [],
   "source": [
    "sentence_pair = pd.DataFrame(\n",
    "    {'impolite': test_df.text,\n",
    "     'polite': polite_filtered}\n",
    ")"
   ]
  },
  {
   "cell_type": "code",
   "execution_count": null,
   "metadata": {},
   "outputs": [],
   "source": [
    "sentence_pair.drop(columns=[\"labels\"]).to_csv(\"result.csv\", index=False)"
   ]
  }
 ],
 "metadata": {
  "kernelspec": {
   "display_name": "nlp2",
   "language": "python",
   "name": "python3"
  },
  "language_info": {
   "codemirror_mode": {
    "name": "ipython",
    "version": 3
   },
   "file_extension": ".py",
   "mimetype": "text/x-python",
   "name": "python",
   "nbconvert_exporter": "python",
   "pygments_lexer": "ipython3",
   "version": "3.10.11"
  },
  "orig_nbformat": 4
 },
 "nbformat": 4,
 "nbformat_minor": 2
}
